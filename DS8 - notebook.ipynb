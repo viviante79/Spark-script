{
 "cells": [
  {
   "cell_type": "markdown",
   "metadata": {},
   "source": [
    "# PROJET 8 : DÉPLOYEZ UN MODÈLE DANS LE CLOUD"
   ]
  },
  {
   "cell_type": "markdown",
   "metadata": {},
   "source": [
    "## 0 - COMMENTAIRE :"
   ]
  },
  {
   "cell_type": "markdown",
   "metadata": {},
   "source": [
    "Il m'a été impossible d'installer correctement Pyspark sur mon environnement Windows 10 - Anaconda. Après de nombreux essais, et combinaisons de versions java/python/pyspark, j'ai opté pour l'utilisation de la plateforme Databricks. Le code ci-dessous a été exécuté sous cette plateforme ; la mise en page (dont ce commentaire) a, quant à elle, été effectuée sur Jupyter notebook.\n",
    "\n",
    "L'environnement Databricks Community Édition impliquait un système de gestion de données particulier qui a notamment énormément compliqué le redimensionnement des images (les bibliothèques PIL ou CV2 ne pouvaient lire les images depuis la source, seul Spark le pouvait. J'ai pu résoudre ce problème (voir II-B) en adaptant un code trouvé dans un article sur le traitement des images avec Spark : https://godatadriven.com/blog/real-distributed-image-processing-with-apache-spark/\n",
    "\n",
    "N'ayant pu installer Spark sur mon PC, il m'était impossible de lancer un script pyspark via, par exemple, un cluster EMR de Amazon Web Services. J'ai résolu ce problème en souscrivant à l'offre d'essai de Databricks AWS Édition. Ce dernier m'a permis de lier mes comptes Databricks et AWS et d'exécuter ainsi mon code depuis Databricks sur les données stockées sur mon bucket S3.\n",
    "\n",
    "J'ai enregistré les étapes effectuées pour déployer mon programme de preprocessing avec un enregistreur d'actions utilisateur (l'enregistrement est présent dans les livrables sous le numéro 7)"
   ]
  },
  {
   "cell_type": "markdown",
   "metadata": {},
   "source": [
    "## I - PRÉALABLES :"
   ]
  },
  {
   "cell_type": "markdown",
   "metadata": {},
   "source": [
    "### A - Importation des librairies :"
   ]
  },
  {
   "cell_type": "code",
   "execution_count": 0,
   "metadata": {
    "application/vnd.databricks.v1+cell": {
     "inputWidgets": {},
     "nuid": "f56dc2db-54bd-484a-a4b2-df991e990c26",
     "showTitle": false,
     "title": ""
    }
   },
   "outputs": [],
   "source": [
    "# Importation des librairies :\n",
    "from typing import Iterator\n",
    "import numpy as np\n",
    "import pandas as pd\n",
    "from PIL import Image\n",
    "from pyspark import SparkContext\n",
    "from pyspark.sql import SparkSession\n",
    "from pyspark.sql.functions import split, udf, col\n",
    "from pyspark.sql.types import StructType, StructField, ArrayType, IntegerType\n",
    "from pyspark.ml.image import ImageSchema\n",
    "from pyspark.ml.feature import StandardScaler\n",
    "from pyspark.ml.linalg import VectorUDT, Vectors\n",
    "from pyspark.ml.feature import PCA"
   ]
  },
  {
   "cell_type": "markdown",
   "metadata": {},
   "source": [
    "### B - Définition du répertoire :"
   ]
  },
  {
   "cell_type": "markdown",
   "metadata": {},
   "source": [
    "#### 1 - Databricks :"
   ]
  },
  {
   "cell_type": "raw",
   "metadata": {},
   "source": [
    "# Adresse du répertoire et récupération des catégories :\n",
    "path = \"/FileStore/shared_uploads/histcomsfh@gmail.com/dataset/\"\n",
    "fs = spark._jvm.org.apache.hadoop.fs.FileSystem.get(spark._jsc.hadoopConfiguration())\n",
    "list_status = fs.listStatus(spark._jvm.org.apache.hadoop.fs.Path(path))\n",
    "cat = [file.getPath().getName() for file in list_status]"
   ]
  },
  {
   "cell_type": "markdown",
   "metadata": {},
   "source": [
    "#### 2 - AWS :"
   ]
  },
  {
   "cell_type": "code",
   "execution_count": null,
   "metadata": {},
   "outputs": [],
   "source": [
    "# Adresse du compartiment S3 :\n",
    "path = \"s3a://vivianorsprojet8/dataset/\""
   ]
  },
  {
   "cell_type": "markdown",
   "metadata": {},
   "source": [
    "### C - Instanciation de Spark :"
   ]
  },
  {
   "cell_type": "code",
   "execution_count": 0,
   "metadata": {
    "application/vnd.databricks.v1+cell": {
     "inputWidgets": {},
     "nuid": "1bc7e011-eab0-4b3d-b773-5b7aefe922e2",
     "showTitle": false,
     "title": ""
    }
   },
   "outputs": [],
   "source": [
    "# Instanciation de Spark :\n",
    "sc = SparkContext.getOrCreate()\n",
    "spark = SparkSession.builder.getOrCreate()"
   ]
  },
  {
   "cell_type": "markdown",
   "metadata": {},
   "source": [
    "## II - PREPROCESSING DES IMAGES :"
   ]
  },
  {
   "cell_type": "markdown",
   "metadata": {},
   "source": [
    "### A - Chargement des images :"
   ]
  },
  {
   "cell_type": "code",
   "execution_count": 0,
   "metadata": {
    "application/vnd.databricks.v1+cell": {
     "inputWidgets": {},
     "nuid": "59a4703c-a841-4bba-871e-80fb8ada5575",
     "showTitle": false,
     "title": ""
    }
   },
   "outputs": [
    {
     "data": {
      "text/plain": [
       "(200, 1)\n",
       "root\n",
       " |-- image: struct (nullable = true)\n",
       " |    |-- origin: string (nullable = true)\n",
       " |    |-- height: integer (nullable = true)\n",
       " |    |-- width: integer (nullable = true)\n",
       " |    |-- nChannels: integer (nullable = true)\n",
       " |    |-- mode: integer (nullable = true)\n",
       " |    |-- data: binary (nullable = true)\n",
       "\n",
       "None\n",
       "+--------------------+\n",
       "|               image|\n",
       "+--------------------+\n",
       "|{dbfs:/FileStore/...|\n",
       "|{dbfs:/FileStore/...|\n",
       "|{dbfs:/FileStore/...|\n",
       "|{dbfs:/FileStore/...|\n",
       "|{dbfs:/FileStore/...|\n",
       "+--------------------+\n",
       "only showing top 5 rows\n",
       "\n"
      ]
     },
     "metadata": {
      "application/vnd.databricks.v1+output": {
       "addedWidgets": {},
       "arguments": {},
       "data": "(200, 1)\nroot\n |-- image: struct (nullable = true)\n |    |-- origin: string (nullable = true)\n |    |-- height: integer (nullable = true)\n |    |-- width: integer (nullable = true)\n |    |-- nChannels: integer (nullable = true)\n |    |-- mode: integer (nullable = true)\n |    |-- data: binary (nullable = true)\n\nNone\n+--------------------+\n|               image|\n+--------------------+\n|{dbfs:/FileStore/...|\n|{dbfs:/FileStore/...|\n|{dbfs:/FileStore/...|\n|{dbfs:/FileStore/...|\n|{dbfs:/FileStore/...|\n+--------------------+\nonly showing top 5 rows\n\n",
       "datasetInfos": [],
       "metadata": {},
       "removedWidgets": [],
       "type": "ansi"
      }
     },
     "output_type": "display_data"
    }
   ],
   "source": [
    "# Récupération des images :\n",
    "df = spark.read.format(\"image\").load(path + \"*\")\n",
    "print((df.count(), len(df.columns)))\n",
    "print(df.printSchema())\n",
    "df.show(5)"
   ]
  },
  {
   "cell_type": "markdown",
   "metadata": {},
   "source": [
    "### B - Traitement et redimensionnement des images (problèmes mémoire) :"
   ]
  },
  {
   "cell_type": "code",
   "execution_count": 0,
   "metadata": {
    "application/vnd.databricks.v1+cell": {
     "inputWidgets": {},
     "nuid": "66ad68a1-0125-443f-80f6-bf3f2712a2e6",
     "showTitle": false,
     "title": ""
    }
   },
   "outputs": [
    {
     "data": {
      "text/plain": [
       "+--------------------+------+-----+---------+----+--------------------+--------------------+\n",
       "|              origin|height|width|nChannels|mode|                data|          data_array|\n",
       "+--------------------+------+-----+---------+----+--------------------+--------------------+\n",
       "|dbfs:/FileStore/s...|   100|  100|        3|  16|[FF FF FE FF FF F...|[255, 255, 255, 2...|\n",
       "|dbfs:/FileStore/s...|   100|  100|        3|  16|[FF FF FE FF FF F...|[255, 255, 255, 2...|\n",
       "|dbfs:/FileStore/s...|   100|  100|        3|  16|[FF FF FE FF FF F...|[255, 255, 255, 2...|\n",
       "|dbfs:/FileStore/s...|   100|  100|        3|  16|[FF FF FE FF FF F...|[255, 255, 255, 2...|\n",
       "|dbfs:/FileStore/s...|   100|  100|        3|  16|[FF FF FF FF FF F...|[255, 255, 255, 2...|\n",
       "|dbfs:/FileStore/s...|   100|  100|        3|  16|[FF FF FE FF FF F...|[255, 255, 255, 2...|\n",
       "|dbfs:/FileStore/s...|   100|  100|        3|  16|[FD FE FF FD FF F...|[255, 255, 255, 2...|\n",
       "|dbfs:/FileStore/s...|   100|  100|        3|  16|[FF FF FE FF FF F...|[255, 255, 255, 2...|\n",
       "|dbfs:/FileStore/s...|   100|  100|        3|  16|[FF FF FE FF FF F...|[255, 255, 255, 2...|\n",
       "|dbfs:/FileStore/s...|   100|  100|        3|  16|[FF FF FF FF FF F...|[255, 255, 255, 2...|\n",
       "|dbfs:/FileStore/s...|   100|  100|        3|  16|[FF FF FE FF FF F...|[255, 255, 255, 2...|\n",
       "|dbfs:/FileStore/s...|   100|  100|        3|  16|[FF FE FF FF FE F...|[255, 255, 255, 2...|\n",
       "|dbfs:/FileStore/s...|   100|  100|        3|  16|[FF FF FE FF FF F...|[255, 255, 255, 2...|\n",
       "|dbfs:/FileStore/s...|   100|  100|        3|  16|[FD FE FF FD FF F...|[255, 255, 255, 2...|\n",
       "|dbfs:/FileStore/s...|   100|  100|        3|  16|[FF FF FF FF FF F...|[255, 255, 255, 2...|\n",
       "|dbfs:/FileStore/s...|   100|  100|        3|  16|[FF FF FE FF FF F...|[255, 255, 255, 2...|\n",
       "|dbfs:/FileStore/s...|   100|  100|        3|  16|[FF FF FE FF FF F...|[255, 255, 255, 2...|\n",
       "|dbfs:/FileStore/s...|   100|  100|        3|  16|[FD FE FF FD FF F...|[255, 255, 255, 2...|\n",
       "|dbfs:/FileStore/s...|   100|  100|        3|  16|[FF FE FF FF FE F...|[254, 255, 255, 2...|\n",
       "|dbfs:/FileStore/s...|   100|  100|        3|  16|[FF FF FE FF FF F...|[255, 255, 255, 2...|\n",
       "+--------------------+------+-----+---------+----+--------------------+--------------------+\n",
       "only showing top 20 rows\n",
       "\n"
      ]
     },
     "metadata": {
      "application/vnd.databricks.v1+output": {
       "addedWidgets": {},
       "arguments": {},
       "data": "+--------------------+------+-----+---------+----+--------------------+--------------------+\n|              origin|height|width|nChannels|mode|                data|          data_array|\n+--------------------+------+-----+---------+----+--------------------+--------------------+\n|dbfs:/FileStore/s...|   100|  100|        3|  16|[FF FF FE FF FF F...|[255, 255, 255, 2...|\n|dbfs:/FileStore/s...|   100|  100|        3|  16|[FF FF FE FF FF F...|[255, 255, 255, 2...|\n|dbfs:/FileStore/s...|   100|  100|        3|  16|[FF FF FE FF FF F...|[255, 255, 255, 2...|\n|dbfs:/FileStore/s...|   100|  100|        3|  16|[FF FF FE FF FF F...|[255, 255, 255, 2...|\n|dbfs:/FileStore/s...|   100|  100|        3|  16|[FF FF FF FF FF F...|[255, 255, 255, 2...|\n|dbfs:/FileStore/s...|   100|  100|        3|  16|[FF FF FE FF FF F...|[255, 255, 255, 2...|\n|dbfs:/FileStore/s...|   100|  100|        3|  16|[FD FE FF FD FF F...|[255, 255, 255, 2...|\n|dbfs:/FileStore/s...|   100|  100|        3|  16|[FF FF FE FF FF F...|[255, 255, 255, 2...|\n|dbfs:/FileStore/s...|   100|  100|        3|  16|[FF FF FE FF FF F...|[255, 255, 255, 2...|\n|dbfs:/FileStore/s...|   100|  100|        3|  16|[FF FF FF FF FF F...|[255, 255, 255, 2...|\n|dbfs:/FileStore/s...|   100|  100|        3|  16|[FF FF FE FF FF F...|[255, 255, 255, 2...|\n|dbfs:/FileStore/s...|   100|  100|        3|  16|[FF FE FF FF FE F...|[255, 255, 255, 2...|\n|dbfs:/FileStore/s...|   100|  100|        3|  16|[FF FF FE FF FF F...|[255, 255, 255, 2...|\n|dbfs:/FileStore/s...|   100|  100|        3|  16|[FD FE FF FD FF F...|[255, 255, 255, 2...|\n|dbfs:/FileStore/s...|   100|  100|        3|  16|[FF FF FF FF FF F...|[255, 255, 255, 2...|\n|dbfs:/FileStore/s...|   100|  100|        3|  16|[FF FF FE FF FF F...|[255, 255, 255, 2...|\n|dbfs:/FileStore/s...|   100|  100|        3|  16|[FF FF FE FF FF F...|[255, 255, 255, 2...|\n|dbfs:/FileStore/s...|   100|  100|        3|  16|[FD FE FF FD FF F...|[255, 255, 255, 2...|\n|dbfs:/FileStore/s...|   100|  100|        3|  16|[FF FE FF FF FE F...|[254, 255, 255, 2...|\n|dbfs:/FileStore/s...|   100|  100|        3|  16|[FF FF FE FF FF F...|[255, 255, 255, 2...|\n+--------------------+------+-----+---------+----+--------------------+--------------------+\nonly showing top 20 rows\n\n",
       "datasetInfos": [],
       "metadata": {},
       "removedWidgets": [],
       "type": "ansi"
      }
     },
     "output_type": "display_data"
    }
   ],
   "source": [
    "# Traitement et redimensionnement des images (à cause d'erreurs mémoire)\n",
    "schema = StructType(df.select(\"image.*\").schema.fields + [\n",
    "    StructField(\"data_array\", ArrayType(IntegerType()), True)\n",
    "])\n",
    "\n",
    "def preprocess_array_image(data):\n",
    "    mode = 'RGB' \n",
    "    img = Image.frombytes(mode=mode, data=data.data, size=[100, 100])\n",
    "    img = img.resize([10, 10])\n",
    "    arr = np.asarray(img)\n",
    "    arr = arr.reshape([10*10*3])\n",
    "    return arr\n",
    "\n",
    "def array_image(dataframe_batch_iterator: Iterator[pd.DataFrame]) -> Iterator[pd.DataFrame]:\n",
    "    for dataframe_batch in dataframe_batch_iterator:\n",
    "        dataframe_batch[\"data_array\"] = dataframe_batch.apply(preprocess_array_image, axis=1)\n",
    "        yield dataframe_batch\n",
    "\n",
    "df = df.select(\"image.*\").mapInPandas(array_image, schema)\n",
    "\n",
    "df.show()"
   ]
  },
  {
   "cell_type": "markdown",
   "metadata": {},
   "source": [
    "### C - Vectorisation :"
   ]
  },
  {
   "cell_type": "code",
   "execution_count": 0,
   "metadata": {
    "application/vnd.databricks.v1+cell": {
     "inputWidgets": {},
     "nuid": "0b962d72-d141-4d8b-940d-db537289e1fb",
     "showTitle": false,
     "title": ""
    }
   },
   "outputs": [
    {
     "data": {
      "text/plain": [
       "+--------------------+------+-----+---------+----+--------------------+--------------------+--------------------+\n",
       "|              origin|height|width|nChannels|mode|                data|          data_array|             vectors|\n",
       "+--------------------+------+-----+---------+----+--------------------+--------------------+--------------------+\n",
       "|dbfs:/FileStore/s...|   100|  100|        3|  16|[FF FF FE FF FF F...|[255, 255, 255, 2...|[255.0,255.0,255....|\n",
       "|dbfs:/FileStore/s...|   100|  100|        3|  16|[FF FF FE FF FF F...|[255, 255, 255, 2...|[255.0,255.0,255....|\n",
       "|dbfs:/FileStore/s...|   100|  100|        3|  16|[FF FF FE FF FF F...|[255, 255, 255, 2...|[255.0,255.0,255....|\n",
       "|dbfs:/FileStore/s...|   100|  100|        3|  16|[FF FF FE FF FF F...|[255, 255, 255, 2...|[255.0,255.0,255....|\n",
       "|dbfs:/FileStore/s...|   100|  100|        3|  16|[FF FF FF FF FF F...|[255, 255, 255, 2...|[255.0,255.0,255....|\n",
       "|dbfs:/FileStore/s...|   100|  100|        3|  16|[FF FF FE FF FF F...|[255, 255, 255, 2...|[255.0,255.0,255....|\n",
       "|dbfs:/FileStore/s...|   100|  100|        3|  16|[FD FE FF FD FF F...|[255, 255, 255, 2...|[255.0,255.0,255....|\n",
       "|dbfs:/FileStore/s...|   100|  100|        3|  16|[FF FF FE FF FF F...|[255, 255, 255, 2...|[255.0,255.0,255....|\n",
       "|dbfs:/FileStore/s...|   100|  100|        3|  16|[FF FF FE FF FF F...|[255, 255, 255, 2...|[255.0,255.0,255....|\n",
       "|dbfs:/FileStore/s...|   100|  100|        3|  16|[FF FF FF FF FF F...|[255, 255, 255, 2...|[255.0,255.0,255....|\n",
       "|dbfs:/FileStore/s...|   100|  100|        3|  16|[FF FF FE FF FF F...|[255, 255, 255, 2...|[255.0,255.0,255....|\n",
       "|dbfs:/FileStore/s...|   100|  100|        3|  16|[FF FE FF FF FE F...|[255, 255, 255, 2...|[255.0,255.0,255....|\n",
       "|dbfs:/FileStore/s...|   100|  100|        3|  16|[FF FF FE FF FF F...|[255, 255, 255, 2...|[255.0,255.0,255....|\n",
       "|dbfs:/FileStore/s...|   100|  100|        3|  16|[FD FE FF FD FF F...|[255, 255, 255, 2...|[255.0,255.0,255....|\n",
       "|dbfs:/FileStore/s...|   100|  100|        3|  16|[FF FF FF FF FF F...|[255, 255, 255, 2...|[255.0,255.0,255....|\n",
       "|dbfs:/FileStore/s...|   100|  100|        3|  16|[FF FF FE FF FF F...|[255, 255, 255, 2...|[255.0,255.0,255....|\n",
       "|dbfs:/FileStore/s...|   100|  100|        3|  16|[FF FF FE FF FF F...|[255, 255, 255, 2...|[255.0,255.0,255....|\n",
       "|dbfs:/FileStore/s...|   100|  100|        3|  16|[FD FE FF FD FF F...|[255, 255, 255, 2...|[255.0,255.0,255....|\n",
       "|dbfs:/FileStore/s...|   100|  100|        3|  16|[FF FE FF FF FE F...|[254, 255, 255, 2...|[254.0,255.0,255....|\n",
       "|dbfs:/FileStore/s...|   100|  100|        3|  16|[FF FF FE FF FF F...|[255, 255, 255, 2...|[255.0,255.0,255....|\n",
       "+--------------------+------+-----+---------+----+--------------------+--------------------+--------------------+\n",
       "only showing top 20 rows\n",
       "\n"
      ]
     },
     "metadata": {
      "application/vnd.databricks.v1+output": {
       "addedWidgets": {},
       "arguments": {},
       "data": "+--------------------+------+-----+---------+----+--------------------+--------------------+--------------------+\n|              origin|height|width|nChannels|mode|                data|          data_array|             vectors|\n+--------------------+------+-----+---------+----+--------------------+--------------------+--------------------+\n|dbfs:/FileStore/s...|   100|  100|        3|  16|[FF FF FE FF FF F...|[255, 255, 255, 2...|[255.0,255.0,255....|\n|dbfs:/FileStore/s...|   100|  100|        3|  16|[FF FF FE FF FF F...|[255, 255, 255, 2...|[255.0,255.0,255....|\n|dbfs:/FileStore/s...|   100|  100|        3|  16|[FF FF FE FF FF F...|[255, 255, 255, 2...|[255.0,255.0,255....|\n|dbfs:/FileStore/s...|   100|  100|        3|  16|[FF FF FE FF FF F...|[255, 255, 255, 2...|[255.0,255.0,255....|\n|dbfs:/FileStore/s...|   100|  100|        3|  16|[FF FF FF FF FF F...|[255, 255, 255, 2...|[255.0,255.0,255....|\n|dbfs:/FileStore/s...|   100|  100|        3|  16|[FF FF FE FF FF F...|[255, 255, 255, 2...|[255.0,255.0,255....|\n|dbfs:/FileStore/s...|   100|  100|        3|  16|[FD FE FF FD FF F...|[255, 255, 255, 2...|[255.0,255.0,255....|\n|dbfs:/FileStore/s...|   100|  100|        3|  16|[FF FF FE FF FF F...|[255, 255, 255, 2...|[255.0,255.0,255....|\n|dbfs:/FileStore/s...|   100|  100|        3|  16|[FF FF FE FF FF F...|[255, 255, 255, 2...|[255.0,255.0,255....|\n|dbfs:/FileStore/s...|   100|  100|        3|  16|[FF FF FF FF FF F...|[255, 255, 255, 2...|[255.0,255.0,255....|\n|dbfs:/FileStore/s...|   100|  100|        3|  16|[FF FF FE FF FF F...|[255, 255, 255, 2...|[255.0,255.0,255....|\n|dbfs:/FileStore/s...|   100|  100|        3|  16|[FF FE FF FF FE F...|[255, 255, 255, 2...|[255.0,255.0,255....|\n|dbfs:/FileStore/s...|   100|  100|        3|  16|[FF FF FE FF FF F...|[255, 255, 255, 2...|[255.0,255.0,255....|\n|dbfs:/FileStore/s...|   100|  100|        3|  16|[FD FE FF FD FF F...|[255, 255, 255, 2...|[255.0,255.0,255....|\n|dbfs:/FileStore/s...|   100|  100|        3|  16|[FF FF FF FF FF F...|[255, 255, 255, 2...|[255.0,255.0,255....|\n|dbfs:/FileStore/s...|   100|  100|        3|  16|[FF FF FE FF FF F...|[255, 255, 255, 2...|[255.0,255.0,255....|\n|dbfs:/FileStore/s...|   100|  100|        3|  16|[FF FF FE FF FF F...|[255, 255, 255, 2...|[255.0,255.0,255....|\n|dbfs:/FileStore/s...|   100|  100|        3|  16|[FD FE FF FD FF F...|[255, 255, 255, 2...|[255.0,255.0,255....|\n|dbfs:/FileStore/s...|   100|  100|        3|  16|[FF FE FF FF FE F...|[254, 255, 255, 2...|[254.0,255.0,255....|\n|dbfs:/FileStore/s...|   100|  100|        3|  16|[FF FF FE FF FF F...|[255, 255, 255, 2...|[255.0,255.0,255....|\n+--------------------+------+-----+---------+----+--------------------+--------------------+--------------------+\nonly showing top 20 rows\n\n",
       "datasetInfos": [],
       "metadata": {},
       "removedWidgets": [],
       "type": "ansi"
      }
     },
     "output_type": "display_data"
    }
   ],
   "source": [
    "# Vectorisation :\n",
    "ImageSchema.imageFields\n",
    "img2vec = udf(lambda l: Vectors.dense(l), VectorUDT())\n",
    "df = df.withColumn(\"vectors\", img2vec(\"data_array\"))\n",
    "df.show()"
   ]
  },
  {
   "cell_type": "markdown",
   "metadata": {},
   "source": [
    "### D - Standardisation :"
   ]
  },
  {
   "cell_type": "code",
   "execution_count": 0,
   "metadata": {
    "application/vnd.databricks.v1+cell": {
     "inputWidgets": {},
     "nuid": "88a06996-18b0-4e6b-87e3-4b4fc6d110ac",
     "showTitle": false,
     "title": ""
    }
   },
   "outputs": [
    {
     "data": {
      "text/plain": [
       "+--------------------+------+-----+---------+----+--------------------+--------------------+--------------------+--------------------+\n",
       "|              origin|height|width|nChannels|mode|                data|          data_array|             vectors|      scaled_vectors|\n",
       "+--------------------+------+-----+---------+----+--------------------+--------------------+--------------------+--------------------+\n",
       "|dbfs:/FileStore/s...|   100|  100|        3|  16|[FF FF FE FF FF F...|[255, 255, 255, 2...|[255.0,255.0,255....|[0.07071067811898...|\n",
       "|dbfs:/FileStore/s...|   100|  100|        3|  16|[FF FF FE FF FF F...|[255, 255, 255, 2...|[255.0,255.0,255....|[0.07071067811898...|\n",
       "|dbfs:/FileStore/s...|   100|  100|        3|  16|[FF FF FE FF FF F...|[255, 255, 255, 2...|[255.0,255.0,255....|[0.07071067811898...|\n",
       "|dbfs:/FileStore/s...|   100|  100|        3|  16|[FF FF FE FF FF F...|[255, 255, 255, 2...|[255.0,255.0,255....|[0.07071067811898...|\n",
       "|dbfs:/FileStore/s...|   100|  100|        3|  16|[FF FF FF FF FF F...|[255, 255, 255, 2...|[255.0,255.0,255....|[0.07071067811898...|\n",
       "|dbfs:/FileStore/s...|   100|  100|        3|  16|[FF FF FE FF FF F...|[255, 255, 255, 2...|[255.0,255.0,255....|[0.07071067811898...|\n",
       "|dbfs:/FileStore/s...|   100|  100|        3|  16|[FD FE FF FD FF F...|[255, 255, 255, 2...|[255.0,255.0,255....|[0.07071067811898...|\n",
       "|dbfs:/FileStore/s...|   100|  100|        3|  16|[FF FF FE FF FF F...|[255, 255, 255, 2...|[255.0,255.0,255....|[0.07071067811898...|\n",
       "|dbfs:/FileStore/s...|   100|  100|        3|  16|[FF FF FE FF FF F...|[255, 255, 255, 2...|[255.0,255.0,255....|[0.07071067811898...|\n",
       "|dbfs:/FileStore/s...|   100|  100|        3|  16|[FF FF FF FF FF F...|[255, 255, 255, 2...|[255.0,255.0,255....|[0.07071067811898...|\n",
       "|dbfs:/FileStore/s...|   100|  100|        3|  16|[FF FF FE FF FF F...|[255, 255, 255, 2...|[255.0,255.0,255....|[0.07071067811898...|\n",
       "|dbfs:/FileStore/s...|   100|  100|        3|  16|[FF FE FF FF FE F...|[255, 255, 255, 2...|[255.0,255.0,255....|[0.07071067811898...|\n",
       "|dbfs:/FileStore/s...|   100|  100|        3|  16|[FF FF FE FF FF F...|[255, 255, 255, 2...|[255.0,255.0,255....|[0.07071067811898...|\n",
       "|dbfs:/FileStore/s...|   100|  100|        3|  16|[FD FE FF FD FF F...|[255, 255, 255, 2...|[255.0,255.0,255....|[0.07071067811898...|\n",
       "|dbfs:/FileStore/s...|   100|  100|        3|  16|[FF FF FF FF FF F...|[255, 255, 255, 2...|[255.0,255.0,255....|[0.07071067811898...|\n",
       "|dbfs:/FileStore/s...|   100|  100|        3|  16|[FF FF FE FF FF F...|[255, 255, 255, 2...|[255.0,255.0,255....|[0.07071067811898...|\n",
       "|dbfs:/FileStore/s...|   100|  100|        3|  16|[FF FF FE FF FF F...|[255, 255, 255, 2...|[255.0,255.0,255....|[0.07071067811898...|\n",
       "|dbfs:/FileStore/s...|   100|  100|        3|  16|[FD FE FF FD FF F...|[255, 255, 255, 2...|[255.0,255.0,255....|[0.07071067811898...|\n",
       "|dbfs:/FileStore/s...|   100|  100|        3|  16|[FF FE FF FF FE F...|[254, 255, 255, 2...|[254.0,255.0,255....|[-14.071424945611...|\n",
       "|dbfs:/FileStore/s...|   100|  100|        3|  16|[FF FF FE FF FF F...|[255, 255, 255, 2...|[255.0,255.0,255....|[0.07071067811898...|\n",
       "+--------------------+------+-----+---------+----+--------------------+--------------------+--------------------+--------------------+\n",
       "only showing top 20 rows\n",
       "\n"
      ]
     },
     "metadata": {
      "application/vnd.databricks.v1+output": {
       "addedWidgets": {},
       "arguments": {},
       "data": "+--------------------+------+-----+---------+----+--------------------+--------------------+--------------------+--------------------+\n|              origin|height|width|nChannels|mode|                data|          data_array|             vectors|      scaled_vectors|\n+--------------------+------+-----+---------+----+--------------------+--------------------+--------------------+--------------------+\n|dbfs:/FileStore/s...|   100|  100|        3|  16|[FF FF FE FF FF F...|[255, 255, 255, 2...|[255.0,255.0,255....|[0.07071067811898...|\n|dbfs:/FileStore/s...|   100|  100|        3|  16|[FF FF FE FF FF F...|[255, 255, 255, 2...|[255.0,255.0,255....|[0.07071067811898...|\n|dbfs:/FileStore/s...|   100|  100|        3|  16|[FF FF FE FF FF F...|[255, 255, 255, 2...|[255.0,255.0,255....|[0.07071067811898...|\n|dbfs:/FileStore/s...|   100|  100|        3|  16|[FF FF FE FF FF F...|[255, 255, 255, 2...|[255.0,255.0,255....|[0.07071067811898...|\n|dbfs:/FileStore/s...|   100|  100|        3|  16|[FF FF FF FF FF F...|[255, 255, 255, 2...|[255.0,255.0,255....|[0.07071067811898...|\n|dbfs:/FileStore/s...|   100|  100|        3|  16|[FF FF FE FF FF F...|[255, 255, 255, 2...|[255.0,255.0,255....|[0.07071067811898...|\n|dbfs:/FileStore/s...|   100|  100|        3|  16|[FD FE FF FD FF F...|[255, 255, 255, 2...|[255.0,255.0,255....|[0.07071067811898...|\n|dbfs:/FileStore/s...|   100|  100|        3|  16|[FF FF FE FF FF F...|[255, 255, 255, 2...|[255.0,255.0,255....|[0.07071067811898...|\n|dbfs:/FileStore/s...|   100|  100|        3|  16|[FF FF FE FF FF F...|[255, 255, 255, 2...|[255.0,255.0,255....|[0.07071067811898...|\n|dbfs:/FileStore/s...|   100|  100|        3|  16|[FF FF FF FF FF F...|[255, 255, 255, 2...|[255.0,255.0,255....|[0.07071067811898...|\n|dbfs:/FileStore/s...|   100|  100|        3|  16|[FF FF FE FF FF F...|[255, 255, 255, 2...|[255.0,255.0,255....|[0.07071067811898...|\n|dbfs:/FileStore/s...|   100|  100|        3|  16|[FF FE FF FF FE F...|[255, 255, 255, 2...|[255.0,255.0,255....|[0.07071067811898...|\n|dbfs:/FileStore/s...|   100|  100|        3|  16|[FF FF FE FF FF F...|[255, 255, 255, 2...|[255.0,255.0,255....|[0.07071067811898...|\n|dbfs:/FileStore/s...|   100|  100|        3|  16|[FD FE FF FD FF F...|[255, 255, 255, 2...|[255.0,255.0,255....|[0.07071067811898...|\n|dbfs:/FileStore/s...|   100|  100|        3|  16|[FF FF FF FF FF F...|[255, 255, 255, 2...|[255.0,255.0,255....|[0.07071067811898...|\n|dbfs:/FileStore/s...|   100|  100|        3|  16|[FF FF FE FF FF F...|[255, 255, 255, 2...|[255.0,255.0,255....|[0.07071067811898...|\n|dbfs:/FileStore/s...|   100|  100|        3|  16|[FF FF FE FF FF F...|[255, 255, 255, 2...|[255.0,255.0,255....|[0.07071067811898...|\n|dbfs:/FileStore/s...|   100|  100|        3|  16|[FD FE FF FD FF F...|[255, 255, 255, 2...|[255.0,255.0,255....|[0.07071067811898...|\n|dbfs:/FileStore/s...|   100|  100|        3|  16|[FF FE FF FF FE F...|[254, 255, 255, 2...|[254.0,255.0,255....|[-14.071424945611...|\n|dbfs:/FileStore/s...|   100|  100|        3|  16|[FF FF FE FF FF F...|[255, 255, 255, 2...|[255.0,255.0,255....|[0.07071067811898...|\n+--------------------+------+-----+---------+----+--------------------+--------------------+--------------------+--------------------+\nonly showing top 20 rows\n\n",
       "datasetInfos": [],
       "metadata": {},
       "removedWidgets": [],
       "type": "ansi"
      }
     },
     "output_type": "display_data"
    }
   ],
   "source": [
    "# Standardisation :\n",
    "scaler = StandardScaler(inputCol=\"vectors\", outputCol=\"scaled_vectors\", withMean=True, withStd=True)\n",
    "model_std = scaler.fit(df)\n",
    "df = model_std.transform(df)\n",
    "df.show()"
   ]
  },
  {
   "cell_type": "markdown",
   "metadata": {},
   "source": [
    "### E - Réduction de dimension (PCA) :"
   ]
  },
  {
   "cell_type": "code",
   "execution_count": 0,
   "metadata": {
    "application/vnd.databricks.v1+cell": {
     "inputWidgets": {},
     "nuid": "1bd30b3b-aff6-43de-815e-506ba13c90a4",
     "showTitle": false,
     "title": ""
    }
   },
   "outputs": [
    {
     "data": {
      "text/plain": [
       "+--------------------+------+-----+---------+----+--------------------+--------------------+--------------------+--------------------+--------------------+\n",
       "|              origin|height|width|nChannels|mode|                data|          data_array|             vectors|      scaled_vectors|       vectors_redux|\n",
       "+--------------------+------+-----+---------+----+--------------------+--------------------+--------------------+--------------------+--------------------+\n",
       "|dbfs:/FileStore/s...|   100|  100|        3|  16|[FF FF FE FF FF F...|[255, 255, 255, 2...|[255.0,255.0,255....|[0.07071067811898...|[13.6054451869003...|\n",
       "|dbfs:/FileStore/s...|   100|  100|        3|  16|[FF FF FE FF FF F...|[255, 255, 255, 2...|[255.0,255.0,255....|[0.07071067811898...|[13.3463750962408...|\n",
       "|dbfs:/FileStore/s...|   100|  100|        3|  16|[FF FF FE FF FF F...|[255, 255, 255, 2...|[255.0,255.0,255....|[0.07071067811898...|[14.2306277378380...|\n",
       "|dbfs:/FileStore/s...|   100|  100|        3|  16|[FF FF FE FF FF F...|[255, 255, 255, 2...|[255.0,255.0,255....|[0.07071067811898...|[14.3587066936779...|\n",
       "|dbfs:/FileStore/s...|   100|  100|        3|  16|[FF FF FF FF FF F...|[255, 255, 255, 2...|[255.0,255.0,255....|[0.07071067811898...|[13.8885565638878...|\n",
       "|dbfs:/FileStore/s...|   100|  100|        3|  16|[FF FF FE FF FF F...|[255, 255, 255, 2...|[255.0,255.0,255....|[0.07071067811898...|[13.6723987628422...|\n",
       "|dbfs:/FileStore/s...|   100|  100|        3|  16|[FD FE FF FD FF F...|[255, 255, 255, 2...|[255.0,255.0,255....|[0.07071067811898...|[14.2132031079448...|\n",
       "|dbfs:/FileStore/s...|   100|  100|        3|  16|[FF FF FE FF FF F...|[255, 255, 255, 2...|[255.0,255.0,255....|[0.07071067811898...|[13.8688005540647...|\n",
       "|dbfs:/FileStore/s...|   100|  100|        3|  16|[FF FF FE FF FF F...|[255, 255, 255, 2...|[255.0,255.0,255....|[0.07071067811898...|[13.9802638320546...|\n",
       "|dbfs:/FileStore/s...|   100|  100|        3|  16|[FF FF FF FF FF F...|[255, 255, 255, 2...|[255.0,255.0,255....|[0.07071067811898...|[14.9124765199279...|\n",
       "|dbfs:/FileStore/s...|   100|  100|        3|  16|[FF FF FE FF FF F...|[255, 255, 255, 2...|[255.0,255.0,255....|[0.07071067811898...|[13.8943097883129...|\n",
       "|dbfs:/FileStore/s...|   100|  100|        3|  16|[FF FE FF FF FE F...|[255, 255, 255, 2...|[255.0,255.0,255....|[0.07071067811898...|[14.1397887641841...|\n",
       "|dbfs:/FileStore/s...|   100|  100|        3|  16|[FF FF FE FF FF F...|[255, 255, 255, 2...|[255.0,255.0,255....|[0.07071067811898...|[14.2733212182557...|\n",
       "|dbfs:/FileStore/s...|   100|  100|        3|  16|[FD FE FF FD FF F...|[255, 255, 255, 2...|[255.0,255.0,255....|[0.07071067811898...|[14.2099528354214...|\n",
       "|dbfs:/FileStore/s...|   100|  100|        3|  16|[FF FF FF FF FF F...|[255, 255, 255, 2...|[255.0,255.0,255....|[0.07071067811898...|[14.9796009051326...|\n",
       "|dbfs:/FileStore/s...|   100|  100|        3|  16|[FF FF FE FF FF F...|[255, 255, 255, 2...|[255.0,255.0,255....|[0.07071067811898...|[14.3071294487920...|\n",
       "|dbfs:/FileStore/s...|   100|  100|        3|  16|[FF FF FE FF FF F...|[255, 255, 255, 2...|[255.0,255.0,255....|[0.07071067811898...|[14.4067619806082...|\n",
       "|dbfs:/FileStore/s...|   100|  100|        3|  16|[FD FE FF FD FF F...|[255, 255, 255, 2...|[255.0,255.0,255....|[0.07071067811898...|[14.2885648726855...|\n",
       "|dbfs:/FileStore/s...|   100|  100|        3|  16|[FF FE FF FF FE F...|[254, 255, 255, 2...|[254.0,255.0,255....|[-14.071424945611...|[14.1752161324929...|\n",
       "|dbfs:/FileStore/s...|   100|  100|        3|  16|[FF FF FE FF FF F...|[255, 255, 255, 2...|[255.0,255.0,255....|[0.07071067811898...|[13.9726620961467...|\n",
       "+--------------------+------+-----+---------+----+--------------------+--------------------+--------------------+--------------------+--------------------+\n",
       "only showing top 20 rows\n",
       "\n"
      ]
     },
     "metadata": {
      "application/vnd.databricks.v1+output": {
       "addedWidgets": {},
       "arguments": {},
       "data": "+--------------------+------+-----+---------+----+--------------------+--------------------+--------------------+--------------------+--------------------+\n|              origin|height|width|nChannels|mode|                data|          data_array|             vectors|      scaled_vectors|       vectors_redux|\n+--------------------+------+-----+---------+----+--------------------+--------------------+--------------------+--------------------+--------------------+\n|dbfs:/FileStore/s...|   100|  100|        3|  16|[FF FF FE FF FF F...|[255, 255, 255, 2...|[255.0,255.0,255....|[0.07071067811898...|[13.6054451869003...|\n|dbfs:/FileStore/s...|   100|  100|        3|  16|[FF FF FE FF FF F...|[255, 255, 255, 2...|[255.0,255.0,255....|[0.07071067811898...|[13.3463750962408...|\n|dbfs:/FileStore/s...|   100|  100|        3|  16|[FF FF FE FF FF F...|[255, 255, 255, 2...|[255.0,255.0,255....|[0.07071067811898...|[14.2306277378380...|\n|dbfs:/FileStore/s...|   100|  100|        3|  16|[FF FF FE FF FF F...|[255, 255, 255, 2...|[255.0,255.0,255....|[0.07071067811898...|[14.3587066936779...|\n|dbfs:/FileStore/s...|   100|  100|        3|  16|[FF FF FF FF FF F...|[255, 255, 255, 2...|[255.0,255.0,255....|[0.07071067811898...|[13.8885565638878...|\n|dbfs:/FileStore/s...|   100|  100|        3|  16|[FF FF FE FF FF F...|[255, 255, 255, 2...|[255.0,255.0,255....|[0.07071067811898...|[13.6723987628422...|\n|dbfs:/FileStore/s...|   100|  100|        3|  16|[FD FE FF FD FF F...|[255, 255, 255, 2...|[255.0,255.0,255....|[0.07071067811898...|[14.2132031079448...|\n|dbfs:/FileStore/s...|   100|  100|        3|  16|[FF FF FE FF FF F...|[255, 255, 255, 2...|[255.0,255.0,255....|[0.07071067811898...|[13.8688005540647...|\n|dbfs:/FileStore/s...|   100|  100|        3|  16|[FF FF FE FF FF F...|[255, 255, 255, 2...|[255.0,255.0,255....|[0.07071067811898...|[13.9802638320546...|\n|dbfs:/FileStore/s...|   100|  100|        3|  16|[FF FF FF FF FF F...|[255, 255, 255, 2...|[255.0,255.0,255....|[0.07071067811898...|[14.9124765199279...|\n|dbfs:/FileStore/s...|   100|  100|        3|  16|[FF FF FE FF FF F...|[255, 255, 255, 2...|[255.0,255.0,255....|[0.07071067811898...|[13.8943097883129...|\n|dbfs:/FileStore/s...|   100|  100|        3|  16|[FF FE FF FF FE F...|[255, 255, 255, 2...|[255.0,255.0,255....|[0.07071067811898...|[14.1397887641841...|\n|dbfs:/FileStore/s...|   100|  100|        3|  16|[FF FF FE FF FF F...|[255, 255, 255, 2...|[255.0,255.0,255....|[0.07071067811898...|[14.2733212182557...|\n|dbfs:/FileStore/s...|   100|  100|        3|  16|[FD FE FF FD FF F...|[255, 255, 255, 2...|[255.0,255.0,255....|[0.07071067811898...|[14.2099528354214...|\n|dbfs:/FileStore/s...|   100|  100|        3|  16|[FF FF FF FF FF F...|[255, 255, 255, 2...|[255.0,255.0,255....|[0.07071067811898...|[14.9796009051326...|\n|dbfs:/FileStore/s...|   100|  100|        3|  16|[FF FF FE FF FF F...|[255, 255, 255, 2...|[255.0,255.0,255....|[0.07071067811898...|[14.3071294487920...|\n|dbfs:/FileStore/s...|   100|  100|        3|  16|[FF FF FE FF FF F...|[255, 255, 255, 2...|[255.0,255.0,255....|[0.07071067811898...|[14.4067619806082...|\n|dbfs:/FileStore/s...|   100|  100|        3|  16|[FD FE FF FD FF F...|[255, 255, 255, 2...|[255.0,255.0,255....|[0.07071067811898...|[14.2885648726855...|\n|dbfs:/FileStore/s...|   100|  100|        3|  16|[FF FE FF FF FE F...|[254, 255, 255, 2...|[254.0,255.0,255....|[-14.071424945611...|[14.1752161324929...|\n|dbfs:/FileStore/s...|   100|  100|        3|  16|[FF FF FE FF FF F...|[255, 255, 255, 2...|[255.0,255.0,255....|[0.07071067811898...|[13.9726620961467...|\n+--------------------+------+-----+---------+----+--------------------+--------------------+--------------------+--------------------+--------------------+\nonly showing top 20 rows\n\n",
       "datasetInfos": [],
       "metadata": {},
       "removedWidgets": [],
       "type": "ansi"
      }
     },
     "output_type": "display_data"
    }
   ],
   "source": [
    "# Réduction de dimension :\n",
    "pca = PCA(k=10, inputCol=\"scaled_vectors\", outputCol=\"vectors_redux\")\n",
    "redux = pca.fit(df)\n",
    "df = redux.transform(df)\n",
    "df.show()"
   ]
  },
  {
   "cell_type": "markdown",
   "metadata": {},
   "source": [
    "### F - Finalisation du Dataframe :"
   ]
  },
  {
   "cell_type": "code",
   "execution_count": 0,
   "metadata": {
    "application/vnd.databricks.v1+cell": {
     "inputWidgets": {},
     "nuid": "74d6ca3c-bdad-4bb9-9ce6-3553498128de",
     "showTitle": false,
     "title": ""
    }
   },
   "outputs": [
    {
     "data": {
      "text/plain": [
       "+--------------------+--------------------+---------+\n",
       "|              origin|       vectors_redux|   target|\n",
       "+--------------------+--------------------+---------+\n",
       "|dbfs:/FileStore/s...|[13.6054451869003...|Pineapple|\n",
       "|dbfs:/FileStore/s...|[13.3463750962408...|Pineapple|\n",
       "|dbfs:/FileStore/s...|[14.2306277378380...|Pineapple|\n",
       "|dbfs:/FileStore/s...|[14.3587066936779...|Pineapple|\n",
       "|dbfs:/FileStore/s...|[13.8885565638878...|Pineapple|\n",
       "|dbfs:/FileStore/s...|[13.6723987628422...|Pineapple|\n",
       "|dbfs:/FileStore/s...|[14.2132031079448...|Pineapple|\n",
       "|dbfs:/FileStore/s...|[13.8688005540647...|Pineapple|\n",
       "|dbfs:/FileStore/s...|[13.9802638320546...|Pineapple|\n",
       "|dbfs:/FileStore/s...|[14.9124765199279...|Pineapple|\n",
       "|dbfs:/FileStore/s...|[13.8943097883129...|Pineapple|\n",
       "|dbfs:/FileStore/s...|[14.1397887641841...|Pineapple|\n",
       "|dbfs:/FileStore/s...|[14.2733212182557...|Pineapple|\n",
       "|dbfs:/FileStore/s...|[14.2099528354214...|Pineapple|\n",
       "|dbfs:/FileStore/s...|[14.9796009051326...|Pineapple|\n",
       "|dbfs:/FileStore/s...|[14.3071294487920...|Pineapple|\n",
       "|dbfs:/FileStore/s...|[14.4067619806082...|Pineapple|\n",
       "|dbfs:/FileStore/s...|[14.2885648726855...|Pineapple|\n",
       "|dbfs:/FileStore/s...|[14.1752161324929...|Pineapple|\n",
       "|dbfs:/FileStore/s...|[13.9726620961467...|Pineapple|\n",
       "+--------------------+--------------------+---------+\n",
       "only showing top 20 rows\n",
       "\n"
      ]
     },
     "metadata": {
      "application/vnd.databricks.v1+output": {
       "addedWidgets": {},
       "arguments": {},
       "data": "+--------------------+--------------------+---------+\n|              origin|       vectors_redux|   target|\n+--------------------+--------------------+---------+\n|dbfs:/FileStore/s...|[13.6054451869003...|Pineapple|\n|dbfs:/FileStore/s...|[13.3463750962408...|Pineapple|\n|dbfs:/FileStore/s...|[14.2306277378380...|Pineapple|\n|dbfs:/FileStore/s...|[14.3587066936779...|Pineapple|\n|dbfs:/FileStore/s...|[13.8885565638878...|Pineapple|\n|dbfs:/FileStore/s...|[13.6723987628422...|Pineapple|\n|dbfs:/FileStore/s...|[14.2132031079448...|Pineapple|\n|dbfs:/FileStore/s...|[13.8688005540647...|Pineapple|\n|dbfs:/FileStore/s...|[13.9802638320546...|Pineapple|\n|dbfs:/FileStore/s...|[14.9124765199279...|Pineapple|\n|dbfs:/FileStore/s...|[13.8943097883129...|Pineapple|\n|dbfs:/FileStore/s...|[14.1397887641841...|Pineapple|\n|dbfs:/FileStore/s...|[14.2733212182557...|Pineapple|\n|dbfs:/FileStore/s...|[14.2099528354214...|Pineapple|\n|dbfs:/FileStore/s...|[14.9796009051326...|Pineapple|\n|dbfs:/FileStore/s...|[14.3071294487920...|Pineapple|\n|dbfs:/FileStore/s...|[14.4067619806082...|Pineapple|\n|dbfs:/FileStore/s...|[14.2885648726855...|Pineapple|\n|dbfs:/FileStore/s...|[14.1752161324929...|Pineapple|\n|dbfs:/FileStore/s...|[13.9726620961467...|Pineapple|\n+--------------------+--------------------+---------+\nonly showing top 20 rows\n\n",
       "datasetInfos": [],
       "metadata": {},
       "removedWidgets": [],
       "type": "ansi"
      }
     },
     "output_type": "display_data"
    }
   ],
   "source": [
    "# Réorganisation du Dataframe et ajout de la target :\n",
    "df = df.select(\"origin\",\"vectors_redux\")\n",
    "df = df.withColumn(\"target\", split(col(\"origin\"), \"dataset/\").getItem(1))\n",
    "df = df.withColumn(\"target\", split(col(\"target\"), \"/\").getItem(0))\n",
    "df.show()"
   ]
  },
  {
   "cell_type": "markdown",
   "metadata": {},
   "source": [
    "## III - EXPORT :"
   ]
  },
  {
   "cell_type": "markdown",
   "metadata": {},
   "source": [
    "### A - Export aux formats json et parquet :"
   ]
  },
  {
   "cell_type": "code",
   "execution_count": 0,
   "metadata": {
    "application/vnd.databricks.v1+cell": {
     "inputWidgets": {},
     "nuid": "72987aa1-bd13-4031-a7e3-078459687e65",
     "showTitle": false,
     "title": ""
    }
   },
   "outputs": [],
   "source": [
    "# Export :\n",
    "resultats = \"s3://vivianorsprojet8/résultats/\"\n",
    "df.write.parquet(résultats)\n",
    "df.write.json(résultats)"
   ]
  },
  {
   "cell_type": "markdown",
   "metadata": {},
   "source": [
    "### B - Réimport, assemblage et export au format csv :"
   ]
  },
  {
   "cell_type": "code",
   "execution_count": 1,
   "metadata": {},
   "outputs": [],
   "source": [
    "# Importation de librairies\n",
    "import pandas as pd\n",
    "import glob"
   ]
  },
  {
   "cell_type": "code",
   "execution_count": 3,
   "metadata": {},
   "outputs": [],
   "source": [
    "# Répertoires des fichiers json :\n",
    "json_path = \"C:/Users/7700k/Desktop/json/\""
   ]
  },
  {
   "cell_type": "code",
   "execution_count": 5,
   "metadata": {},
   "outputs": [],
   "source": [
    "# Fonction de lecture des fichiers json partitionnés :\n",
    "def readFiles(path):\n",
    "    files = glob.glob(path + \"*\")\n",
    "    dfs = [] # an empty list to store the data frames\n",
    "    for file in files:\n",
    "        data = pd.read_json(file, lines=True) # read data frame from json file\n",
    "        dfs.append(data) # append the data frame to the list\n",
    "\n",
    "    df = pd.concat(dfs, ignore_index=True) # concatenate all the data frames in the list.\n",
    "    return df"
   ]
  },
  {
   "cell_type": "code",
   "execution_count": 8,
   "metadata": {},
   "outputs": [
    {
     "data": {
      "text/html": [
       "<div>\n",
       "<style scoped>\n",
       "    .dataframe tbody tr th:only-of-type {\n",
       "        vertical-align: middle;\n",
       "    }\n",
       "\n",
       "    .dataframe tbody tr th {\n",
       "        vertical-align: top;\n",
       "    }\n",
       "\n",
       "    .dataframe thead th {\n",
       "        text-align: right;\n",
       "    }\n",
       "</style>\n",
       "<table border=\"1\" class=\"dataframe\">\n",
       "  <thead>\n",
       "    <tr style=\"text-align: right;\">\n",
       "      <th></th>\n",
       "      <th>origin</th>\n",
       "      <th>vectors_redux</th>\n",
       "      <th>target</th>\n",
       "    </tr>\n",
       "  </thead>\n",
       "  <tbody>\n",
       "    <tr>\n",
       "      <th>0</th>\n",
       "      <td>s3a://vivianorsprojet8/dataset/Pineapple/116_1...</td>\n",
       "      <td>{'type': 1, 'values': [11.155305263739486, -1....</td>\n",
       "      <td>Pineapple</td>\n",
       "    </tr>\n",
       "    <tr>\n",
       "      <th>1</th>\n",
       "      <td>s3a://vivianorsprojet8/dataset/Pineapple/119_1...</td>\n",
       "      <td>{'type': 1, 'values': [10.836595752156528, -1....</td>\n",
       "      <td>Pineapple</td>\n",
       "    </tr>\n",
       "    <tr>\n",
       "      <th>2</th>\n",
       "      <td>s3a://vivianorsprojet8/dataset/Pineapple/112_1...</td>\n",
       "      <td>{'type': 1, 'values': [11.929215624288979, -2....</td>\n",
       "      <td>Pineapple</td>\n",
       "    </tr>\n",
       "    <tr>\n",
       "      <th>3</th>\n",
       "      <td>s3a://vivianorsprojet8/dataset/Pineapple/149_1...</td>\n",
       "      <td>{'type': 1, 'values': [11.681932915058056, -1....</td>\n",
       "      <td>Pineapple</td>\n",
       "    </tr>\n",
       "    <tr>\n",
       "      <th>4</th>\n",
       "      <td>s3a://vivianorsprojet8/dataset/Pineapple/121_1...</td>\n",
       "      <td>{'type': 1, 'values': [11.19777385992577, -1.7...</td>\n",
       "      <td>Pineapple</td>\n",
       "    </tr>\n",
       "  </tbody>\n",
       "</table>\n",
       "</div>"
      ],
      "text/plain": [
       "                                              origin  \\\n",
       "0  s3a://vivianorsprojet8/dataset/Pineapple/116_1...   \n",
       "1  s3a://vivianorsprojet8/dataset/Pineapple/119_1...   \n",
       "2  s3a://vivianorsprojet8/dataset/Pineapple/112_1...   \n",
       "3  s3a://vivianorsprojet8/dataset/Pineapple/149_1...   \n",
       "4  s3a://vivianorsprojet8/dataset/Pineapple/121_1...   \n",
       "\n",
       "                                       vectors_redux     target  \n",
       "0  {'type': 1, 'values': [11.155305263739486, -1....  Pineapple  \n",
       "1  {'type': 1, 'values': [10.836595752156528, -1....  Pineapple  \n",
       "2  {'type': 1, 'values': [11.929215624288979, -2....  Pineapple  \n",
       "3  {'type': 1, 'values': [11.681932915058056, -1....  Pineapple  \n",
       "4  {'type': 1, 'values': [11.19777385992577, -1.7...  Pineapple  "
      ]
     },
     "execution_count": 8,
     "metadata": {},
     "output_type": "execute_result"
    }
   ],
   "source": [
    "# Lecture des fichiers json réunis :\n",
    "csv_data = readFiles(json_path)\n",
    "csv_data.head(5)"
   ]
  },
  {
   "cell_type": "code",
   "execution_count": 9,
   "metadata": {},
   "outputs": [],
   "source": [
    "# Export au format CSV :\n",
    "csv_data.to_csv(\"Ors_Vivian_2_images_082022.csv\")"
   ]
  }
 ],
 "metadata": {
  "application/vnd.databricks.v1+notebook": {
   "dashboards": [],
   "language": "python",
   "notebookMetadata": {
    "pythonIndentUnit": 4
   },
   "notebookName": "Projet_8",
   "notebookOrigID": 112814359451544,
   "widgets": {}
  },
  "kernelspec": {
   "display_name": "Python 3 (ipykernel)",
   "language": "python",
   "name": "python3"
  },
  "language_info": {
   "codemirror_mode": {
    "name": "ipython",
    "version": 3
   },
   "file_extension": ".py",
   "mimetype": "text/x-python",
   "name": "python",
   "nbconvert_exporter": "python",
   "pygments_lexer": "ipython3",
   "version": "3.9.12"
  }
 },
 "nbformat": 4,
 "nbformat_minor": 1
}
