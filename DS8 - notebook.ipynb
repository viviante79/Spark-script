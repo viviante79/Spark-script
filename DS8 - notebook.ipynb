{
 "cells": [
  {
   "cell_type": "markdown",
   "metadata": {},
   "source": [
    "# PROJET 8 : DÉPLOYEZ UN MODÈLE DANS LE CLOUD"
   ]
  },
  {
   "cell_type": "markdown",
   "metadata": {},
   "source": [
    "## 0 - COMMENTAIRE :"
   ]
  },
  {
   "cell_type": "markdown",
   "metadata": {},
   "source": [
    "Il m'a été impossible d'installer correctement Pyspark sur mon environnement Windows 10 - Anaconda. Après de nombreux essais, et combinaisons de versions java/python/pyspark, j'ai opté pour l'utilisation de la plateforme Databricks. Le code ci-dessous a été exécuté sous cette plateforme ; la mise en page (dont ce commentaire) a, quant à elle, été effectuée sur Jupyter notebook.\n",
    "\n",
    "L'environnement Databricks Community Édition impliquait un système de gestion de données particulier qui a notamment énormément compliqué le redimensionnement des images (les bibliothèques PIL ou CV2 ne pouvaient lire les images depuis la source, seul Spark via la commande load.format(\"image\") le permettait. J'ai pu résoudre ce problème (voir II-B) en adaptant un code trouvé dans un article sur le traitement des images avec Spark : https://godatadriven.com/blog/real-distributed-image-processing-with-apache-spark/\n",
    "\n",
    "N'ayant pu installer Spark sur mon PC, il m'était impossible de lancer un script pyspark via, par exemple, un cluster EMR de Amazon Web Services. J'ai résolu ce problème en souscrivant à l'offre d'essai de Databricks AWS Édition. Ce dernier m'a permis de lier mes comptes Databricks et AWS et d'exécuter ainsi mon code depuis Databricks sur les données stockées sur mon bucket S3.\n",
    "\n",
    "J'ai enregistré les étapes effectuées pour déployer mon programme de preprocessing avec un enregistreur d'actions utilisateur (l'enregistrement est présent dans les livrables sous le numéro 7)"
   ]
  },
  {
   "cell_type": "markdown",
   "metadata": {},
   "source": [
    "## I - PRÉALABLES :"
   ]
  },
  {
   "cell_type": "markdown",
   "metadata": {},
   "source": [
    "### A - Importation des librairies :"
   ]
  },
  {
   "cell_type": "code",
   "execution_count": 0,
   "metadata": {
    "application/vnd.databricks.v1+cell": {
     "inputWidgets": {},
     "nuid": "f56dc2db-54bd-484a-a4b2-df991e990c26",
     "showTitle": false,
     "title": ""
    }
   },
   "outputs": [],
   "source": [
    "# Importation des librairies :\n",
    "from typing import Iterator\n",
    "import numpy as np\n",
    "import pandas as pd\n",
    "from PIL import Image\n",
    "from pyspark import SparkContext\n",
    "from pyspark.sql import SparkSession\n",
    "from pyspark.sql.functions import split, udf, col\n",
    "from pyspark.sql.types import StructType, StructField, ArrayType, IntegerType\n",
    "from pyspark.ml.image import ImageSchema\n",
    "from pyspark.ml.feature import StandardScaler\n",
    "from pyspark.ml.linalg import VectorUDT, Vectors\n",
    "from pyspark.ml.feature import PCA"
   ]
  },
  {
   "cell_type": "markdown",
   "metadata": {},
   "source": [
    "### B - Définition du répertoire :"
   ]
  },
  {
   "cell_type": "markdown",
   "metadata": {},
   "source": [
    "#### 1 - Databricks Community Edition :"
   ]
  },
  {
   "cell_type": "code",
   "execution_count": null,
   "metadata": {},
   "outputs": [],
   "source": [
    "# Adresse du répertoire et récupération des catégories :\n",
    "path = \"/FileStore/shared_uploads/histcomsfh@gmail.com/dataset/\"\n",
    "fs = spark._jvm.org.apache.hadoop.fs.FileSystem.get(spark._jsc.hadoopConfiguration())\n",
    "list_status = fs.listStatus(spark._jvm.org.apache.hadoop.fs.Path(path))\n",
    "cat = [file.getPath().getName() for file in list_status]"
   ]
  },
  {
   "cell_type": "markdown",
   "metadata": {},
   "source": [
    "#### 2 - AWS :"
   ]
  },
  {
   "cell_type": "code",
   "execution_count": 0,
   "metadata": {
    "application/vnd.databricks.v1+cell": {
     "inputWidgets": {},
     "nuid": "7f798c4c-18dc-428e-beb4-692aa9419f9c",
     "showTitle": false,
     "title": ""
    }
   },
   "outputs": [],
   "source": [
    "# Adresse du répertoire :\n",
    "path = \"s3a://vivianorsprojet8/dataset/\""
   ]
  },
  {
   "cell_type": "markdown",
   "metadata": {},
   "source": [
    "### C - Instanciation de Spark :"
   ]
  },
  {
   "cell_type": "code",
   "execution_count": 0,
   "metadata": {
    "application/vnd.databricks.v1+cell": {
     "inputWidgets": {},
     "nuid": "1bc7e011-eab0-4b3d-b773-5b7aefe922e2",
     "showTitle": false,
     "title": ""
    }
   },
   "outputs": [],
   "source": [
    "# Instanciation de Spark :\n",
    "sc = SparkContext.getOrCreate()\n",
    "spark = SparkSession.builder.getOrCreate()"
   ]
  },
  {
   "cell_type": "markdown",
   "metadata": {},
   "source": [
    "## II - PREPROCESSING DES IMAGES :"
   ]
  },
  {
   "cell_type": "markdown",
   "metadata": {},
   "source": [
    "### A - Chargement des images :"
   ]
  },
  {
   "cell_type": "code",
   "execution_count": 0,
   "metadata": {
    "application/vnd.databricks.v1+cell": {
     "inputWidgets": {},
     "nuid": "59a4703c-a841-4bba-871e-80fb8ada5575",
     "showTitle": false,
     "title": ""
    }
   },
   "outputs": [
    {
     "data": {
      "text/plain": [
       "(200, 1)\n",
       "root\n",
       " |-- image: struct (nullable = true)\n",
       " |    |-- origin: string (nullable = true)\n",
       " |    |-- height: integer (nullable = true)\n",
       " |    |-- width: integer (nullable = true)\n",
       " |    |-- nChannels: integer (nullable = true)\n",
       " |    |-- mode: integer (nullable = true)\n",
       " |    |-- data: binary (nullable = true)\n",
       "\n",
       "None\n",
       "+--------------------+\n",
       "|               image|\n",
       "+--------------------+\n",
       "|{dbfs:/FileStore/...|\n",
       "|{dbfs:/FileStore/...|\n",
       "|{dbfs:/FileStore/...|\n",
       "|{dbfs:/FileStore/...|\n",
       "|{dbfs:/FileStore/...|\n",
       "+--------------------+\n",
       "only showing top 5 rows\n",
       "\n"
      ]
     },
     "metadata": {
      "application/vnd.databricks.v1+output": {
       "addedWidgets": {},
       "arguments": {},
       "data": "(200, 1)\nroot\n |-- image: struct (nullable = true)\n |    |-- origin: string (nullable = true)\n |    |-- height: integer (nullable = true)\n |    |-- width: integer (nullable = true)\n |    |-- nChannels: integer (nullable = true)\n |    |-- mode: integer (nullable = true)\n |    |-- data: binary (nullable = true)\n\nNone\n+--------------------+\n|               image|\n+--------------------+\n|{dbfs:/FileStore/...|\n|{dbfs:/FileStore/...|\n|{dbfs:/FileStore/...|\n|{dbfs:/FileStore/...|\n|{dbfs:/FileStore/...|\n+--------------------+\nonly showing top 5 rows\n\n",
       "datasetInfos": [],
       "metadata": {},
       "removedWidgets": [],
       "type": "ansi"
      }
     },
     "output_type": "display_data"
    }
   ],
   "source": [
    "# Récupération des images :\n",
    "df = spark.read.format(\"image\").load(path + \"*\")\n",
    "print((df.count(), len(df.columns)))\n",
    "print(df.printSchema())\n",
    "df.show(5)"
   ]
  },
  {
   "cell_type": "markdown",
   "metadata": {},
   "source": [
    "### B - Traitement et redimensionnement des images :"
   ]
  },
  {
   "cell_type": "code",
   "execution_count": 0,
   "metadata": {
    "application/vnd.databricks.v1+cell": {
     "inputWidgets": {},
     "nuid": "66ad68a1-0125-443f-80f6-bf3f2712a2e6",
     "showTitle": false,
     "title": ""
    }
   },
   "outputs": [
    {
     "data": {
      "text/plain": [
       "+--------------------+------+-----+---------+----+--------------------+--------------------+\n",
       "|              origin|height|width|nChannels|mode|                data|          data_array|\n",
       "+--------------------+------+-----+---------+----+--------------------+--------------------+\n",
       "|dbfs:/FileStore/s...|   100|  100|        3|  16|[FF FF FE FF FF F...|[255, 255, 255, 2...|\n",
       "|dbfs:/FileStore/s...|   100|  100|        3|  16|[FF FF FE FF FF F...|[255, 255, 255, 2...|\n",
       "|dbfs:/FileStore/s...|   100|  100|        3|  16|[FF FF FE FF FF F...|[255, 255, 255, 2...|\n",
       "|dbfs:/FileStore/s...|   100|  100|        3|  16|[FF FF FE FF FF F...|[255, 255, 255, 2...|\n",
       "|dbfs:/FileStore/s...|   100|  100|        3|  16|[FF FF FF FF FF F...|[255, 255, 255, 2...|\n",
       "|dbfs:/FileStore/s...|   100|  100|        3|  16|[FF FF FE FF FF F...|[255, 255, 255, 2...|\n",
       "|dbfs:/FileStore/s...|   100|  100|        3|  16|[FD FE FF FD FF F...|[255, 255, 255, 2...|\n",
       "|dbfs:/FileStore/s...|   100|  100|        3|  16|[FF FF FE FF FF F...|[255, 255, 255, 2...|\n",
       "|dbfs:/FileStore/s...|   100|  100|        3|  16|[FF FF FE FF FF F...|[255, 255, 255, 2...|\n",
       "|dbfs:/FileStore/s...|   100|  100|        3|  16|[FF FF FF FF FF F...|[255, 255, 255, 2...|\n",
       "|dbfs:/FileStore/s...|   100|  100|        3|  16|[FF FF FE FF FF F...|[255, 255, 255, 2...|\n",
       "|dbfs:/FileStore/s...|   100|  100|        3|  16|[FF FE FF FF FE F...|[255, 255, 255, 2...|\n",
       "|dbfs:/FileStore/s...|   100|  100|        3|  16|[FF FF FE FF FF F...|[255, 255, 255, 2...|\n",
       "|dbfs:/FileStore/s...|   100|  100|        3|  16|[FD FE FF FD FF F...|[255, 255, 255, 2...|\n",
       "|dbfs:/FileStore/s...|   100|  100|        3|  16|[FF FF FF FF FF F...|[255, 255, 255, 2...|\n",
       "|dbfs:/FileStore/s...|   100|  100|        3|  16|[FF FF FE FF FF F...|[255, 255, 255, 2...|\n",
       "|dbfs:/FileStore/s...|   100|  100|        3|  16|[FF FF FE FF FF F...|[255, 255, 255, 2...|\n",
       "|dbfs:/FileStore/s...|   100|  100|        3|  16|[FD FE FF FD FF F...|[255, 255, 255, 2...|\n",
       "|dbfs:/FileStore/s...|   100|  100|        3|  16|[FF FE FF FF FE F...|[254, 255, 255, 2...|\n",
       "|dbfs:/FileStore/s...|   100|  100|        3|  16|[FF FF FE FF FF F...|[255, 255, 255, 2...|\n",
       "+--------------------+------+-----+---------+----+--------------------+--------------------+\n",
       "only showing top 20 rows\n",
       "\n"
      ]
     },
     "metadata": {
      "application/vnd.databricks.v1+output": {
       "addedWidgets": {},
       "arguments": {},
       "data": "+--------------------+------+-----+---------+----+--------------------+--------------------+\n|              origin|height|width|nChannels|mode|                data|          data_array|\n+--------------------+------+-----+---------+----+--------------------+--------------------+\n|dbfs:/FileStore/s...|   100|  100|        3|  16|[FF FF FE FF FF F...|[255, 255, 255, 2...|\n|dbfs:/FileStore/s...|   100|  100|        3|  16|[FF FF FE FF FF F...|[255, 255, 255, 2...|\n|dbfs:/FileStore/s...|   100|  100|        3|  16|[FF FF FE FF FF F...|[255, 255, 255, 2...|\n|dbfs:/FileStore/s...|   100|  100|        3|  16|[FF FF FE FF FF F...|[255, 255, 255, 2...|\n|dbfs:/FileStore/s...|   100|  100|        3|  16|[FF FF FF FF FF F...|[255, 255, 255, 2...|\n|dbfs:/FileStore/s...|   100|  100|        3|  16|[FF FF FE FF FF F...|[255, 255, 255, 2...|\n|dbfs:/FileStore/s...|   100|  100|        3|  16|[FD FE FF FD FF F...|[255, 255, 255, 2...|\n|dbfs:/FileStore/s...|   100|  100|        3|  16|[FF FF FE FF FF F...|[255, 255, 255, 2...|\n|dbfs:/FileStore/s...|   100|  100|        3|  16|[FF FF FE FF FF F...|[255, 255, 255, 2...|\n|dbfs:/FileStore/s...|   100|  100|        3|  16|[FF FF FF FF FF F...|[255, 255, 255, 2...|\n|dbfs:/FileStore/s...|   100|  100|        3|  16|[FF FF FE FF FF F...|[255, 255, 255, 2...|\n|dbfs:/FileStore/s...|   100|  100|        3|  16|[FF FE FF FF FE F...|[255, 255, 255, 2...|\n|dbfs:/FileStore/s...|   100|  100|        3|  16|[FF FF FE FF FF F...|[255, 255, 255, 2...|\n|dbfs:/FileStore/s...|   100|  100|        3|  16|[FD FE FF FD FF F...|[255, 255, 255, 2...|\n|dbfs:/FileStore/s...|   100|  100|        3|  16|[FF FF FF FF FF F...|[255, 255, 255, 2...|\n|dbfs:/FileStore/s...|   100|  100|        3|  16|[FF FF FE FF FF F...|[255, 255, 255, 2...|\n|dbfs:/FileStore/s...|   100|  100|        3|  16|[FF FF FE FF FF F...|[255, 255, 255, 2...|\n|dbfs:/FileStore/s...|   100|  100|        3|  16|[FD FE FF FD FF F...|[255, 255, 255, 2...|\n|dbfs:/FileStore/s...|   100|  100|        3|  16|[FF FE FF FF FE F...|[254, 255, 255, 2...|\n|dbfs:/FileStore/s...|   100|  100|        3|  16|[FF FF FE FF FF F...|[255, 255, 255, 2...|\n+--------------------+------+-----+---------+----+--------------------+--------------------+\nonly showing top 20 rows\n\n",
       "datasetInfos": [],
       "metadata": {},
       "removedWidgets": [],
       "type": "ansi"
      }
     },
     "output_type": "display_data"
    }
   ],
   "source": [
    "# Traitement et redimensionnement des images (à cause d'erreurs mémoire lors de la réduction de dimension)\n",
    "schema = StructType(df.select(\"image.*\").schema.fields + [\n",
    "    StructField(\"data_array\", ArrayType(IntegerType()), True)\n",
    "])\n",
    "\n",
    "def preprocess_array_image(data):\n",
    "    mode = 'RGB' \n",
    "    img = Image.frombytes(mode=mode, data=data.data, size=[100, 100])\n",
    "    img = img.resize([10, 10])\n",
    "    arr = np.asarray(img)\n",
    "    arr = arr.reshape([10*10*3])\n",
    "    return arr.flatten()\n",
    "\n",
    "def array_image(dataframe_batch_iterator: Iterator[pd.DataFrame]) -> Iterator[pd.DataFrame]:\n",
    "    for dataframe_batch in dataframe_batch_iterator:\n",
    "        dataframe_batch[\"data_array\"] = dataframe_batch.apply(preprocess_array_image, axis=1)\n",
    "        yield dataframe_batch\n",
    "\n",
    "df = df.select(\"image.*\").mapInPandas(array_image, schema)\n",
    "\n",
    "df.show()"
   ]
  },
  {
   "cell_type": "markdown",
   "metadata": {},
   "source": [
    "### C - Vectorisation :"
   ]
  },
  {
   "cell_type": "code",
   "execution_count": 0,
   "metadata": {
    "application/vnd.databricks.v1+cell": {
     "inputWidgets": {},
     "nuid": "0b962d72-d141-4d8b-940d-db537289e1fb",
     "showTitle": false,
     "title": ""
    }
   },
   "outputs": [
    {
     "data": {
      "text/plain": [
       "+--------------------+------+-----+---------+----+--------------------+--------------------+--------------------+\n",
       "|              origin|height|width|nChannels|mode|                data|          data_array|             vectors|\n",
       "+--------------------+------+-----+---------+----+--------------------+--------------------+--------------------+\n",
       "|dbfs:/FileStore/s...|   100|  100|        3|  16|[FF FF FE FF FF F...|[255, 255, 255, 2...|[255.0,255.0,255....|\n",
       "|dbfs:/FileStore/s...|   100|  100|        3|  16|[FF FF FE FF FF F...|[255, 255, 255, 2...|[255.0,255.0,255....|\n",
       "|dbfs:/FileStore/s...|   100|  100|        3|  16|[FF FF FE FF FF F...|[255, 255, 255, 2...|[255.0,255.0,255....|\n",
       "|dbfs:/FileStore/s...|   100|  100|        3|  16|[FF FF FE FF FF F...|[255, 255, 255, 2...|[255.0,255.0,255....|\n",
       "|dbfs:/FileStore/s...|   100|  100|        3|  16|[FF FF FF FF FF F...|[255, 255, 255, 2...|[255.0,255.0,255....|\n",
       "|dbfs:/FileStore/s...|   100|  100|        3|  16|[FF FF FE FF FF F...|[255, 255, 255, 2...|[255.0,255.0,255....|\n",
       "|dbfs:/FileStore/s...|   100|  100|        3|  16|[FD FE FF FD FF F...|[255, 255, 255, 2...|[255.0,255.0,255....|\n",
       "|dbfs:/FileStore/s...|   100|  100|        3|  16|[FF FF FE FF FF F...|[255, 255, 255, 2...|[255.0,255.0,255....|\n",
       "|dbfs:/FileStore/s...|   100|  100|        3|  16|[FF FF FE FF FF F...|[255, 255, 255, 2...|[255.0,255.0,255....|\n",
       "|dbfs:/FileStore/s...|   100|  100|        3|  16|[FF FF FF FF FF F...|[255, 255, 255, 2...|[255.0,255.0,255....|\n",
       "|dbfs:/FileStore/s...|   100|  100|        3|  16|[FF FF FE FF FF F...|[255, 255, 255, 2...|[255.0,255.0,255....|\n",
       "|dbfs:/FileStore/s...|   100|  100|        3|  16|[FF FE FF FF FE F...|[255, 255, 255, 2...|[255.0,255.0,255....|\n",
       "|dbfs:/FileStore/s...|   100|  100|        3|  16|[FF FF FE FF FF F...|[255, 255, 255, 2...|[255.0,255.0,255....|\n",
       "|dbfs:/FileStore/s...|   100|  100|        3|  16|[FD FE FF FD FF F...|[255, 255, 255, 2...|[255.0,255.0,255....|\n",
       "|dbfs:/FileStore/s...|   100|  100|        3|  16|[FF FF FF FF FF F...|[255, 255, 255, 2...|[255.0,255.0,255....|\n",
       "|dbfs:/FileStore/s...|   100|  100|        3|  16|[FF FF FE FF FF F...|[255, 255, 255, 2...|[255.0,255.0,255....|\n",
       "|dbfs:/FileStore/s...|   100|  100|        3|  16|[FF FF FE FF FF F...|[255, 255, 255, 2...|[255.0,255.0,255....|\n",
       "|dbfs:/FileStore/s...|   100|  100|        3|  16|[FD FE FF FD FF F...|[255, 255, 255, 2...|[255.0,255.0,255....|\n",
       "|dbfs:/FileStore/s...|   100|  100|        3|  16|[FF FE FF FF FE F...|[254, 255, 255, 2...|[254.0,255.0,255....|\n",
       "|dbfs:/FileStore/s...|   100|  100|        3|  16|[FF FF FE FF FF F...|[255, 255, 255, 2...|[255.0,255.0,255....|\n",
       "+--------------------+------+-----+---------+----+--------------------+--------------------+--------------------+\n",
       "only showing top 20 rows\n",
       "\n"
      ]
     },
     "metadata": {
      "application/vnd.databricks.v1+output": {
       "addedWidgets": {},
       "arguments": {},
       "data": "+--------------------+------+-----+---------+----+--------------------+--------------------+--------------------+\n|              origin|height|width|nChannels|mode|                data|          data_array|             vectors|\n+--------------------+------+-----+---------+----+--------------------+--------------------+--------------------+\n|dbfs:/FileStore/s...|   100|  100|        3|  16|[FF FF FE FF FF F...|[255, 255, 255, 2...|[255.0,255.0,255....|\n|dbfs:/FileStore/s...|   100|  100|        3|  16|[FF FF FE FF FF F...|[255, 255, 255, 2...|[255.0,255.0,255....|\n|dbfs:/FileStore/s...|   100|  100|        3|  16|[FF FF FE FF FF F...|[255, 255, 255, 2...|[255.0,255.0,255....|\n|dbfs:/FileStore/s...|   100|  100|        3|  16|[FF FF FE FF FF F...|[255, 255, 255, 2...|[255.0,255.0,255....|\n|dbfs:/FileStore/s...|   100|  100|        3|  16|[FF FF FF FF FF F...|[255, 255, 255, 2...|[255.0,255.0,255....|\n|dbfs:/FileStore/s...|   100|  100|        3|  16|[FF FF FE FF FF F...|[255, 255, 255, 2...|[255.0,255.0,255....|\n|dbfs:/FileStore/s...|   100|  100|        3|  16|[FD FE FF FD FF F...|[255, 255, 255, 2...|[255.0,255.0,255....|\n|dbfs:/FileStore/s...|   100|  100|        3|  16|[FF FF FE FF FF F...|[255, 255, 255, 2...|[255.0,255.0,255....|\n|dbfs:/FileStore/s...|   100|  100|        3|  16|[FF FF FE FF FF F...|[255, 255, 255, 2...|[255.0,255.0,255....|\n|dbfs:/FileStore/s...|   100|  100|        3|  16|[FF FF FF FF FF F...|[255, 255, 255, 2...|[255.0,255.0,255....|\n|dbfs:/FileStore/s...|   100|  100|        3|  16|[FF FF FE FF FF F...|[255, 255, 255, 2...|[255.0,255.0,255....|\n|dbfs:/FileStore/s...|   100|  100|        3|  16|[FF FE FF FF FE F...|[255, 255, 255, 2...|[255.0,255.0,255....|\n|dbfs:/FileStore/s...|   100|  100|        3|  16|[FF FF FE FF FF F...|[255, 255, 255, 2...|[255.0,255.0,255....|\n|dbfs:/FileStore/s...|   100|  100|        3|  16|[FD FE FF FD FF F...|[255, 255, 255, 2...|[255.0,255.0,255....|\n|dbfs:/FileStore/s...|   100|  100|        3|  16|[FF FF FF FF FF F...|[255, 255, 255, 2...|[255.0,255.0,255....|\n|dbfs:/FileStore/s...|   100|  100|        3|  16|[FF FF FE FF FF F...|[255, 255, 255, 2...|[255.0,255.0,255....|\n|dbfs:/FileStore/s...|   100|  100|        3|  16|[FF FF FE FF FF F...|[255, 255, 255, 2...|[255.0,255.0,255....|\n|dbfs:/FileStore/s...|   100|  100|        3|  16|[FD FE FF FD FF F...|[255, 255, 255, 2...|[255.0,255.0,255....|\n|dbfs:/FileStore/s...|   100|  100|        3|  16|[FF FE FF FF FE F...|[254, 255, 255, 2...|[254.0,255.0,255....|\n|dbfs:/FileStore/s...|   100|  100|        3|  16|[FF FF FE FF FF F...|[255, 255, 255, 2...|[255.0,255.0,255....|\n+--------------------+------+-----+---------+----+--------------------+--------------------+--------------------+\nonly showing top 20 rows\n\n",
       "datasetInfos": [],
       "metadata": {},
       "removedWidgets": [],
       "type": "ansi"
      }
     },
     "output_type": "display_data"
    }
   ],
   "source": [
    "# Vectorisation :\n",
    "ImageSchema.imageFields\n",
    "img2vec = udf(lambda l: Vectors.dense(l), VectorUDT())\n",
    "df = df.withColumn(\"vectors\", img2vec(\"data_array\"))\n",
    "df.show()"
   ]
  },
  {
   "cell_type": "markdown",
   "metadata": {},
   "source": [
    "### D - Standardisation :"
   ]
  },
  {
   "cell_type": "code",
   "execution_count": 0,
   "metadata": {
    "application/vnd.databricks.v1+cell": {
     "inputWidgets": {},
     "nuid": "88a06996-18b0-4e6b-87e3-4b4fc6d110ac",
     "showTitle": false,
     "title": ""
    }
   },
   "outputs": [
    {
     "data": {
      "text/plain": [
       "+--------------------+------+-----+---------+----+--------------------+--------------------+--------------------+--------------------+\n",
       "|              origin|height|width|nChannels|mode|                data|          data_array|             vectors|      scaled_vectors|\n",
       "+--------------------+------+-----+---------+----+--------------------+--------------------+--------------------+--------------------+\n",
       "|dbfs:/FileStore/s...|   100|  100|        3|  16|[FF FF FE FF FF F...|[255, 255, 255, 2...|[255.0,255.0,255....|[0.07071067811898...|\n",
       "|dbfs:/FileStore/s...|   100|  100|        3|  16|[FF FF FE FF FF F...|[255, 255, 255, 2...|[255.0,255.0,255....|[0.07071067811898...|\n",
       "|dbfs:/FileStore/s...|   100|  100|        3|  16|[FF FF FE FF FF F...|[255, 255, 255, 2...|[255.0,255.0,255....|[0.07071067811898...|\n",
       "|dbfs:/FileStore/s...|   100|  100|        3|  16|[FF FF FE FF FF F...|[255, 255, 255, 2...|[255.0,255.0,255....|[0.07071067811898...|\n",
       "|dbfs:/FileStore/s...|   100|  100|        3|  16|[FF FF FF FF FF F...|[255, 255, 255, 2...|[255.0,255.0,255....|[0.07071067811898...|\n",
       "|dbfs:/FileStore/s...|   100|  100|        3|  16|[FF FF FE FF FF F...|[255, 255, 255, 2...|[255.0,255.0,255....|[0.07071067811898...|\n",
       "|dbfs:/FileStore/s...|   100|  100|        3|  16|[FD FE FF FD FF F...|[255, 255, 255, 2...|[255.0,255.0,255....|[0.07071067811898...|\n",
       "|dbfs:/FileStore/s...|   100|  100|        3|  16|[FF FF FE FF FF F...|[255, 255, 255, 2...|[255.0,255.0,255....|[0.07071067811898...|\n",
       "|dbfs:/FileStore/s...|   100|  100|        3|  16|[FF FF FE FF FF F...|[255, 255, 255, 2...|[255.0,255.0,255....|[0.07071067811898...|\n",
       "|dbfs:/FileStore/s...|   100|  100|        3|  16|[FF FF FF FF FF F...|[255, 255, 255, 2...|[255.0,255.0,255....|[0.07071067811898...|\n",
       "|dbfs:/FileStore/s...|   100|  100|        3|  16|[FF FF FE FF FF F...|[255, 255, 255, 2...|[255.0,255.0,255....|[0.07071067811898...|\n",
       "|dbfs:/FileStore/s...|   100|  100|        3|  16|[FF FE FF FF FE F...|[255, 255, 255, 2...|[255.0,255.0,255....|[0.07071067811898...|\n",
       "|dbfs:/FileStore/s...|   100|  100|        3|  16|[FF FF FE FF FF F...|[255, 255, 255, 2...|[255.0,255.0,255....|[0.07071067811898...|\n",
       "|dbfs:/FileStore/s...|   100|  100|        3|  16|[FD FE FF FD FF F...|[255, 255, 255, 2...|[255.0,255.0,255....|[0.07071067811898...|\n",
       "|dbfs:/FileStore/s...|   100|  100|        3|  16|[FF FF FF FF FF F...|[255, 255, 255, 2...|[255.0,255.0,255....|[0.07071067811898...|\n",
       "|dbfs:/FileStore/s...|   100|  100|        3|  16|[FF FF FE FF FF F...|[255, 255, 255, 2...|[255.0,255.0,255....|[0.07071067811898...|\n",
       "|dbfs:/FileStore/s...|   100|  100|        3|  16|[FF FF FE FF FF F...|[255, 255, 255, 2...|[255.0,255.0,255....|[0.07071067811898...|\n",
       "|dbfs:/FileStore/s...|   100|  100|        3|  16|[FD FE FF FD FF F...|[255, 255, 255, 2...|[255.0,255.0,255....|[0.07071067811898...|\n",
       "|dbfs:/FileStore/s...|   100|  100|        3|  16|[FF FE FF FF FE F...|[254, 255, 255, 2...|[254.0,255.0,255....|[-14.071424945611...|\n",
       "|dbfs:/FileStore/s...|   100|  100|        3|  16|[FF FF FE FF FF F...|[255, 255, 255, 2...|[255.0,255.0,255....|[0.07071067811898...|\n",
       "+--------------------+------+-----+---------+----+--------------------+--------------------+--------------------+--------------------+\n",
       "only showing top 20 rows\n",
       "\n"
      ]
     },
     "metadata": {
      "application/vnd.databricks.v1+output": {
       "addedWidgets": {},
       "arguments": {},
       "data": "+--------------------+------+-----+---------+----+--------------------+--------------------+--------------------+--------------------+\n|              origin|height|width|nChannels|mode|                data|          data_array|             vectors|      scaled_vectors|\n+--------------------+------+-----+---------+----+--------------------+--------------------+--------------------+--------------------+\n|dbfs:/FileStore/s...|   100|  100|        3|  16|[FF FF FE FF FF F...|[255, 255, 255, 2...|[255.0,255.0,255....|[0.07071067811898...|\n|dbfs:/FileStore/s...|   100|  100|        3|  16|[FF FF FE FF FF F...|[255, 255, 255, 2...|[255.0,255.0,255....|[0.07071067811898...|\n|dbfs:/FileStore/s...|   100|  100|        3|  16|[FF FF FE FF FF F...|[255, 255, 255, 2...|[255.0,255.0,255....|[0.07071067811898...|\n|dbfs:/FileStore/s...|   100|  100|        3|  16|[FF FF FE FF FF F...|[255, 255, 255, 2...|[255.0,255.0,255....|[0.07071067811898...|\n|dbfs:/FileStore/s...|   100|  100|        3|  16|[FF FF FF FF FF F...|[255, 255, 255, 2...|[255.0,255.0,255....|[0.07071067811898...|\n|dbfs:/FileStore/s...|   100|  100|        3|  16|[FF FF FE FF FF F...|[255, 255, 255, 2...|[255.0,255.0,255....|[0.07071067811898...|\n|dbfs:/FileStore/s...|   100|  100|        3|  16|[FD FE FF FD FF F...|[255, 255, 255, 2...|[255.0,255.0,255....|[0.07071067811898...|\n|dbfs:/FileStore/s...|   100|  100|        3|  16|[FF FF FE FF FF F...|[255, 255, 255, 2...|[255.0,255.0,255....|[0.07071067811898...|\n|dbfs:/FileStore/s...|   100|  100|        3|  16|[FF FF FE FF FF F...|[255, 255, 255, 2...|[255.0,255.0,255....|[0.07071067811898...|\n|dbfs:/FileStore/s...|   100|  100|        3|  16|[FF FF FF FF FF F...|[255, 255, 255, 2...|[255.0,255.0,255....|[0.07071067811898...|\n|dbfs:/FileStore/s...|   100|  100|        3|  16|[FF FF FE FF FF F...|[255, 255, 255, 2...|[255.0,255.0,255....|[0.07071067811898...|\n|dbfs:/FileStore/s...|   100|  100|        3|  16|[FF FE FF FF FE F...|[255, 255, 255, 2...|[255.0,255.0,255....|[0.07071067811898...|\n|dbfs:/FileStore/s...|   100|  100|        3|  16|[FF FF FE FF FF F...|[255, 255, 255, 2...|[255.0,255.0,255....|[0.07071067811898...|\n|dbfs:/FileStore/s...|   100|  100|        3|  16|[FD FE FF FD FF F...|[255, 255, 255, 2...|[255.0,255.0,255....|[0.07071067811898...|\n|dbfs:/FileStore/s...|   100|  100|        3|  16|[FF FF FF FF FF F...|[255, 255, 255, 2...|[255.0,255.0,255....|[0.07071067811898...|\n|dbfs:/FileStore/s...|   100|  100|        3|  16|[FF FF FE FF FF F...|[255, 255, 255, 2...|[255.0,255.0,255....|[0.07071067811898...|\n|dbfs:/FileStore/s...|   100|  100|        3|  16|[FF FF FE FF FF F...|[255, 255, 255, 2...|[255.0,255.0,255....|[0.07071067811898...|\n|dbfs:/FileStore/s...|   100|  100|        3|  16|[FD FE FF FD FF F...|[255, 255, 255, 2...|[255.0,255.0,255....|[0.07071067811898...|\n|dbfs:/FileStore/s...|   100|  100|        3|  16|[FF FE FF FF FE F...|[254, 255, 255, 2...|[254.0,255.0,255....|[-14.071424945611...|\n|dbfs:/FileStore/s...|   100|  100|        3|  16|[FF FF FE FF FF F...|[255, 255, 255, 2...|[255.0,255.0,255....|[0.07071067811898...|\n+--------------------+------+-----+---------+----+--------------------+--------------------+--------------------+--------------------+\nonly showing top 20 rows\n\n",
       "datasetInfos": [],
       "metadata": {},
       "removedWidgets": [],
       "type": "ansi"
      }
     },
     "output_type": "display_data"
    }
   ],
   "source": [
    "# Standardisation :\n",
    "scaler = StandardScaler(inputCol=\"vectors\", outputCol=\"scaled_vectors\", withMean=True, withStd=True)\n",
    "model_std = scaler.fit(df)\n",
    "df = model_std.transform(df)\n",
    "df.show()"
   ]
  },
  {
   "cell_type": "markdown",
   "metadata": {},
   "source": [
    "### E - Réduction de dimension (PCA) :"
   ]
  },
  {
   "cell_type": "code",
   "execution_count": 0,
   "metadata": {
    "application/vnd.databricks.v1+cell": {
     "inputWidgets": {},
     "nuid": "1bd30b3b-aff6-43de-815e-506ba13c90a4",
     "showTitle": false,
     "title": ""
    }
   },
   "outputs": [
    {
     "data": {
      "text/plain": [
       "+--------------------+------+-----+---------+----+--------------------+--------------------+--------------------+--------------------+--------------------+\n",
       "|              origin|height|width|nChannels|mode|                data|          data_array|             vectors|      scaled_vectors|       vectors_redux|\n",
       "+--------------------+------+-----+---------+----+--------------------+--------------------+--------------------+--------------------+--------------------+\n",
       "|dbfs:/FileStore/s...|   100|  100|        3|  16|[FF FF FE FF FF F...|[255, 255, 255, 2...|[255.0,255.0,255....|[0.07071067811898...|[13.6054451869003...|\n",
       "|dbfs:/FileStore/s...|   100|  100|        3|  16|[FF FF FE FF FF F...|[255, 255, 255, 2...|[255.0,255.0,255....|[0.07071067811898...|[13.3463750962408...|\n",
       "|dbfs:/FileStore/s...|   100|  100|        3|  16|[FF FF FE FF FF F...|[255, 255, 255, 2...|[255.0,255.0,255....|[0.07071067811898...|[14.2306277378380...|\n",
       "|dbfs:/FileStore/s...|   100|  100|        3|  16|[FF FF FE FF FF F...|[255, 255, 255, 2...|[255.0,255.0,255....|[0.07071067811898...|[14.3587066936779...|\n",
       "|dbfs:/FileStore/s...|   100|  100|        3|  16|[FF FF FF FF FF F...|[255, 255, 255, 2...|[255.0,255.0,255....|[0.07071067811898...|[13.8885565638878...|\n",
       "|dbfs:/FileStore/s...|   100|  100|        3|  16|[FF FF FE FF FF F...|[255, 255, 255, 2...|[255.0,255.0,255....|[0.07071067811898...|[13.6723987628422...|\n",
       "|dbfs:/FileStore/s...|   100|  100|        3|  16|[FD FE FF FD FF F...|[255, 255, 255, 2...|[255.0,255.0,255....|[0.07071067811898...|[14.2132031079448...|\n",
       "|dbfs:/FileStore/s...|   100|  100|        3|  16|[FF FF FE FF FF F...|[255, 255, 255, 2...|[255.0,255.0,255....|[0.07071067811898...|[13.8688005540647...|\n",
       "|dbfs:/FileStore/s...|   100|  100|        3|  16|[FF FF FE FF FF F...|[255, 255, 255, 2...|[255.0,255.0,255....|[0.07071067811898...|[13.9802638320546...|\n",
       "|dbfs:/FileStore/s...|   100|  100|        3|  16|[FF FF FF FF FF F...|[255, 255, 255, 2...|[255.0,255.0,255....|[0.07071067811898...|[14.912476519928,...|\n",
       "|dbfs:/FileStore/s...|   100|  100|        3|  16|[FF FF FE FF FF F...|[255, 255, 255, 2...|[255.0,255.0,255....|[0.07071067811898...|[13.8943097883129...|\n",
       "|dbfs:/FileStore/s...|   100|  100|        3|  16|[FF FE FF FF FE F...|[255, 255, 255, 2...|[255.0,255.0,255....|[0.07071067811898...|[14.1397887641841...|\n",
       "|dbfs:/FileStore/s...|   100|  100|        3|  16|[FF FF FE FF FF F...|[255, 255, 255, 2...|[255.0,255.0,255....|[0.07071067811898...|[14.2733212182557...|\n",
       "|dbfs:/FileStore/s...|   100|  100|        3|  16|[FD FE FF FD FF F...|[255, 255, 255, 2...|[255.0,255.0,255....|[0.07071067811898...|[14.2099528354214...|\n",
       "|dbfs:/FileStore/s...|   100|  100|        3|  16|[FF FF FF FF FF F...|[255, 255, 255, 2...|[255.0,255.0,255....|[0.07071067811898...|[14.9796009051326...|\n",
       "|dbfs:/FileStore/s...|   100|  100|        3|  16|[FF FF FE FF FF F...|[255, 255, 255, 2...|[255.0,255.0,255....|[0.07071067811898...|[14.3071294487920...|\n",
       "|dbfs:/FileStore/s...|   100|  100|        3|  16|[FF FF FE FF FF F...|[255, 255, 255, 2...|[255.0,255.0,255....|[0.07071067811898...|[14.4067619806082...|\n",
       "|dbfs:/FileStore/s...|   100|  100|        3|  16|[FD FE FF FD FF F...|[255, 255, 255, 2...|[255.0,255.0,255....|[0.07071067811898...|[14.2885648726855...|\n",
       "|dbfs:/FileStore/s...|   100|  100|        3|  16|[FF FE FF FF FE F...|[254, 255, 255, 2...|[254.0,255.0,255....|[-14.071424945611...|[14.1752161324929...|\n",
       "|dbfs:/FileStore/s...|   100|  100|        3|  16|[FF FF FE FF FF F...|[255, 255, 255, 2...|[255.0,255.0,255....|[0.07071067811898...|[13.9726620961467...|\n",
       "+--------------------+------+-----+---------+----+--------------------+--------------------+--------------------+--------------------+--------------------+\n",
       "only showing top 20 rows\n",
       "\n"
      ]
     },
     "metadata": {
      "application/vnd.databricks.v1+output": {
       "addedWidgets": {},
       "arguments": {},
       "data": "+--------------------+------+-----+---------+----+--------------------+--------------------+--------------------+--------------------+--------------------+\n|              origin|height|width|nChannels|mode|                data|          data_array|             vectors|      scaled_vectors|       vectors_redux|\n+--------------------+------+-----+---------+----+--------------------+--------------------+--------------------+--------------------+--------------------+\n|dbfs:/FileStore/s...|   100|  100|        3|  16|[FF FF FE FF FF F...|[255, 255, 255, 2...|[255.0,255.0,255....|[0.07071067811898...|[13.6054451869003...|\n|dbfs:/FileStore/s...|   100|  100|        3|  16|[FF FF FE FF FF F...|[255, 255, 255, 2...|[255.0,255.0,255....|[0.07071067811898...|[13.3463750962408...|\n|dbfs:/FileStore/s...|   100|  100|        3|  16|[FF FF FE FF FF F...|[255, 255, 255, 2...|[255.0,255.0,255....|[0.07071067811898...|[14.2306277378380...|\n|dbfs:/FileStore/s...|   100|  100|        3|  16|[FF FF FE FF FF F...|[255, 255, 255, 2...|[255.0,255.0,255....|[0.07071067811898...|[14.3587066936779...|\n|dbfs:/FileStore/s...|   100|  100|        3|  16|[FF FF FF FF FF F...|[255, 255, 255, 2...|[255.0,255.0,255....|[0.07071067811898...|[13.8885565638878...|\n|dbfs:/FileStore/s...|   100|  100|        3|  16|[FF FF FE FF FF F...|[255, 255, 255, 2...|[255.0,255.0,255....|[0.07071067811898...|[13.6723987628422...|\n|dbfs:/FileStore/s...|   100|  100|        3|  16|[FD FE FF FD FF F...|[255, 255, 255, 2...|[255.0,255.0,255....|[0.07071067811898...|[14.2132031079448...|\n|dbfs:/FileStore/s...|   100|  100|        3|  16|[FF FF FE FF FF F...|[255, 255, 255, 2...|[255.0,255.0,255....|[0.07071067811898...|[13.8688005540647...|\n|dbfs:/FileStore/s...|   100|  100|        3|  16|[FF FF FE FF FF F...|[255, 255, 255, 2...|[255.0,255.0,255....|[0.07071067811898...|[13.9802638320546...|\n|dbfs:/FileStore/s...|   100|  100|        3|  16|[FF FF FF FF FF F...|[255, 255, 255, 2...|[255.0,255.0,255....|[0.07071067811898...|[14.912476519928,...|\n|dbfs:/FileStore/s...|   100|  100|        3|  16|[FF FF FE FF FF F...|[255, 255, 255, 2...|[255.0,255.0,255....|[0.07071067811898...|[13.8943097883129...|\n|dbfs:/FileStore/s...|   100|  100|        3|  16|[FF FE FF FF FE F...|[255, 255, 255, 2...|[255.0,255.0,255....|[0.07071067811898...|[14.1397887641841...|\n|dbfs:/FileStore/s...|   100|  100|        3|  16|[FF FF FE FF FF F...|[255, 255, 255, 2...|[255.0,255.0,255....|[0.07071067811898...|[14.2733212182557...|\n|dbfs:/FileStore/s...|   100|  100|        3|  16|[FD FE FF FD FF F...|[255, 255, 255, 2...|[255.0,255.0,255....|[0.07071067811898...|[14.2099528354214...|\n|dbfs:/FileStore/s...|   100|  100|        3|  16|[FF FF FF FF FF F...|[255, 255, 255, 2...|[255.0,255.0,255....|[0.07071067811898...|[14.9796009051326...|\n|dbfs:/FileStore/s...|   100|  100|        3|  16|[FF FF FE FF FF F...|[255, 255, 255, 2...|[255.0,255.0,255....|[0.07071067811898...|[14.3071294487920...|\n|dbfs:/FileStore/s...|   100|  100|        3|  16|[FF FF FE FF FF F...|[255, 255, 255, 2...|[255.0,255.0,255....|[0.07071067811898...|[14.4067619806082...|\n|dbfs:/FileStore/s...|   100|  100|        3|  16|[FD FE FF FD FF F...|[255, 255, 255, 2...|[255.0,255.0,255....|[0.07071067811898...|[14.2885648726855...|\n|dbfs:/FileStore/s...|   100|  100|        3|  16|[FF FE FF FF FE F...|[254, 255, 255, 2...|[254.0,255.0,255....|[-14.071424945611...|[14.1752161324929...|\n|dbfs:/FileStore/s...|   100|  100|        3|  16|[FF FF FE FF FF F...|[255, 255, 255, 2...|[255.0,255.0,255....|[0.07071067811898...|[13.9726620961467...|\n+--------------------+------+-----+---------+----+--------------------+--------------------+--------------------+--------------------+--------------------+\nonly showing top 20 rows\n\n",
       "datasetInfos": [],
       "metadata": {},
       "removedWidgets": [],
       "type": "ansi"
      }
     },
     "output_type": "display_data"
    }
   ],
   "source": [
    "# Réduction de dimension :\n",
    "pca = PCA(k=10, inputCol=\"scaled_vectors\", outputCol=\"vectors_redux\")\n",
    "redux = pca.fit(df)\n",
    "df = redux.transform(df)\n",
    "df.show()"
   ]
  },
  {
   "cell_type": "markdown",
   "metadata": {},
   "source": [
    "### F - Finalisation du Dataframe :"
   ]
  },
  {
   "cell_type": "code",
   "execution_count": 0,
   "metadata": {
    "application/vnd.databricks.v1+cell": {
     "inputWidgets": {},
     "nuid": "cd76871d-a629-41bf-9b28-4347f76f7ec8",
     "showTitle": false,
     "title": ""
    }
   },
   "outputs": [
    {
     "data": {
      "text/plain": [
       "+--------------------+--------------------+---------+\n",
       "|              origin|       vectors_redux|   target|\n",
       "+--------------------+--------------------+---------+\n",
       "|dbfs:/FileStore/s...|[13.6054451869003...|Pineapple|\n",
       "|dbfs:/FileStore/s...|[13.3463750962408...|Pineapple|\n",
       "|dbfs:/FileStore/s...|[14.2306277378380...|Pineapple|\n",
       "|dbfs:/FileStore/s...|[14.3587066936779...|Pineapple|\n",
       "|dbfs:/FileStore/s...|[13.8885565638878...|Pineapple|\n",
       "|dbfs:/FileStore/s...|[13.6723987628422...|Pineapple|\n",
       "|dbfs:/FileStore/s...|[14.2132031079448...|Pineapple|\n",
       "|dbfs:/FileStore/s...|[13.8688005540647...|Pineapple|\n",
       "|dbfs:/FileStore/s...|[13.9802638320546...|Pineapple|\n",
       "|dbfs:/FileStore/s...|[14.912476519928,...|Pineapple|\n",
       "|dbfs:/FileStore/s...|[13.8943097883129...|Pineapple|\n",
       "|dbfs:/FileStore/s...|[14.1397887641841...|Pineapple|\n",
       "|dbfs:/FileStore/s...|[14.2733212182557...|Pineapple|\n",
       "|dbfs:/FileStore/s...|[14.2099528354214...|Pineapple|\n",
       "|dbfs:/FileStore/s...|[14.9796009051326...|Pineapple|\n",
       "|dbfs:/FileStore/s...|[14.3071294487920...|Pineapple|\n",
       "|dbfs:/FileStore/s...|[14.4067619806082...|Pineapple|\n",
       "|dbfs:/FileStore/s...|[14.2885648726855...|Pineapple|\n",
       "|dbfs:/FileStore/s...|[14.1752161324929...|Pineapple|\n",
       "|dbfs:/FileStore/s...|[13.9726620961467...|Pineapple|\n",
       "+--------------------+--------------------+---------+\n",
       "only showing top 20 rows\n",
       "\n"
      ]
     },
     "metadata": {
      "application/vnd.databricks.v1+output": {
       "addedWidgets": {},
       "arguments": {},
       "data": "+--------------------+--------------------+---------+\n|              origin|       vectors_redux|   target|\n+--------------------+--------------------+---------+\n|dbfs:/FileStore/s...|[13.6054451869003...|Pineapple|\n|dbfs:/FileStore/s...|[13.3463750962408...|Pineapple|\n|dbfs:/FileStore/s...|[14.2306277378380...|Pineapple|\n|dbfs:/FileStore/s...|[14.3587066936779...|Pineapple|\n|dbfs:/FileStore/s...|[13.8885565638878...|Pineapple|\n|dbfs:/FileStore/s...|[13.6723987628422...|Pineapple|\n|dbfs:/FileStore/s...|[14.2132031079448...|Pineapple|\n|dbfs:/FileStore/s...|[13.8688005540647...|Pineapple|\n|dbfs:/FileStore/s...|[13.9802638320546...|Pineapple|\n|dbfs:/FileStore/s...|[14.912476519928,...|Pineapple|\n|dbfs:/FileStore/s...|[13.8943097883129...|Pineapple|\n|dbfs:/FileStore/s...|[14.1397887641841...|Pineapple|\n|dbfs:/FileStore/s...|[14.2733212182557...|Pineapple|\n|dbfs:/FileStore/s...|[14.2099528354214...|Pineapple|\n|dbfs:/FileStore/s...|[14.9796009051326...|Pineapple|\n|dbfs:/FileStore/s...|[14.3071294487920...|Pineapple|\n|dbfs:/FileStore/s...|[14.4067619806082...|Pineapple|\n|dbfs:/FileStore/s...|[14.2885648726855...|Pineapple|\n|dbfs:/FileStore/s...|[14.1752161324929...|Pineapple|\n|dbfs:/FileStore/s...|[13.9726620961467...|Pineapple|\n+--------------------+--------------------+---------+\nonly showing top 20 rows\n\n",
       "datasetInfos": [],
       "metadata": {},
       "removedWidgets": [],
       "type": "ansi"
      }
     },
     "output_type": "display_data"
    }
   ],
   "source": [
    "# Réorganisation du Dataframe et ajout de la target :\n",
    "df = df.select(\"origin\",\"vectors_redux\")\n",
    "df = df.withColumn(\"target\", split(col(\"origin\"), \"dataset/\").getItem(1))\n",
    "df = df.withColumn(\"target\", split(col(\"target\"), \"/\").getItem(0))\n",
    "df.show()"
   ]
  },
  {
   "cell_type": "markdown",
   "metadata": {},
   "source": [
    "## III - EXPORT ET ASSEMBLAGE D'UNE MATRICE CSV :"
   ]
  },
  {
   "cell_type": "markdown",
   "metadata": {},
   "source": [
    "### A - Export aux formats json et parquet :"
   ]
  },
  {
   "cell_type": "code",
   "execution_count": null,
   "metadata": {},
   "outputs": [],
   "source": [
    "# Export :\n",
    "resultats = \"s3://vivianorsprojet8/résultats/\"\n",
    "df.write.parquet(résultats)\n",
    "df.write.json(résultats)"
   ]
  },
  {
   "cell_type": "markdown",
   "metadata": {},
   "source": [
    "### B - Réimport, assemblage et export au format csv :"
   ]
  },
  {
   "cell_type": "markdown",
   "metadata": {},
   "source": [
    "#### 1) Commentaire :"
   ]
  },
  {
   "cell_type": "markdown",
   "metadata": {},
   "source": [
    "Cette partie III - B a été réalisée non plus sur Databricks, mais sur Jupyter Notebook. Les fichiers json (ou parquet) générés sur le cloud (Databricks + AWS) ont été téléchargés et importés ci-dessous pour créer une matrice csv. Les colonnes \"added\" et \"removed\" correspondent à des logs AWS lors de l'opération sur le cloud."
   ]
  },
  {
   "cell_type": "markdown",
   "metadata": {},
   "source": [
    "#### 2) Importation, lecture et transformation des fichiers json en une matrice csv :"
   ]
  },
  {
   "cell_type": "code",
   "execution_count": 8,
   "metadata": {},
   "outputs": [],
   "source": [
    "# Importation de librairies\n",
    "import pandas as pd\n",
    "import glob"
   ]
  },
  {
   "cell_type": "code",
   "execution_count": 9,
   "metadata": {},
   "outputs": [],
   "source": [
    "# Répertoires des fichiers json :\n",
    "json_path = \"C:/Users/7700k/Desktop/json/\""
   ]
  },
  {
   "cell_type": "code",
   "execution_count": 10,
   "metadata": {},
   "outputs": [],
   "source": [
    "# Fonction de lecture des fichiers json partitionnés :\n",
    "def readFiles(path):\n",
    "    files = glob.glob(path + \"*\")\n",
    "    dfs = [] # an empty list to store the data frames\n",
    "    for file in files:\n",
    "        data = pd.read_json(file, lines=True) # read data frame from json file\n",
    "        dfs.append(data) # append the data frame to the list\n",
    "\n",
    "    df = pd.concat(dfs, ignore_index=True) # concatenate all the data frames in the list.\n",
    "    return df"
   ]
  },
  {
   "cell_type": "code",
   "execution_count": 11,
   "metadata": {},
   "outputs": [],
   "source": [
    "# Lecture des fichiers json réunis :\n",
    "csv_data = readFiles(json_path)"
   ]
  },
  {
   "cell_type": "code",
   "execution_count": 12,
   "metadata": {},
   "outputs": [
    {
     "data": {
      "text/html": [
       "<div>\n",
       "<style scoped>\n",
       "    .dataframe tbody tr th:only-of-type {\n",
       "        vertical-align: middle;\n",
       "    }\n",
       "\n",
       "    .dataframe tbody tr th {\n",
       "        vertical-align: top;\n",
       "    }\n",
       "\n",
       "    .dataframe thead th {\n",
       "        text-align: right;\n",
       "    }\n",
       "</style>\n",
       "<table border=\"1\" class=\"dataframe\">\n",
       "  <thead>\n",
       "    <tr style=\"text-align: right;\">\n",
       "      <th></th>\n",
       "      <th>origin</th>\n",
       "      <th>vectors_redux</th>\n",
       "      <th>target</th>\n",
       "      <th>added</th>\n",
       "      <th>removed</th>\n",
       "    </tr>\n",
       "  </thead>\n",
       "  <tbody>\n",
       "    <tr>\n",
       "      <th>0</th>\n",
       "      <td>s3a://vivianorsprojet8/dataset/Pineapple/116_1...</td>\n",
       "      <td>[11.155305263739486, -1.9322724265188072, 0.01...</td>\n",
       "      <td>Pineapple</td>\n",
       "      <td>NaN</td>\n",
       "      <td>NaN</td>\n",
       "    </tr>\n",
       "    <tr>\n",
       "      <th>1</th>\n",
       "      <td>s3a://vivianorsprojet8/dataset/Pineapple/119_1...</td>\n",
       "      <td>[10.836595752156528, -1.647366647527635, -0.50...</td>\n",
       "      <td>Pineapple</td>\n",
       "      <td>NaN</td>\n",
       "      <td>NaN</td>\n",
       "    </tr>\n",
       "    <tr>\n",
       "      <th>2</th>\n",
       "      <td>s3a://vivianorsprojet8/dataset/Pineapple/112_1...</td>\n",
       "      <td>[11.929215624288979, -2.039589383236388, 0.353...</td>\n",
       "      <td>Pineapple</td>\n",
       "      <td>NaN</td>\n",
       "      <td>NaN</td>\n",
       "    </tr>\n",
       "    <tr>\n",
       "      <th>3</th>\n",
       "      <td>s3a://vivianorsprojet8/dataset/Pineapple/149_1...</td>\n",
       "      <td>[11.681932915058056, -1.8990681139259662, -0.8...</td>\n",
       "      <td>Pineapple</td>\n",
       "      <td>NaN</td>\n",
       "      <td>NaN</td>\n",
       "    </tr>\n",
       "    <tr>\n",
       "      <th>4</th>\n",
       "      <td>s3a://vivianorsprojet8/dataset/Pineapple/121_1...</td>\n",
       "      <td>[11.19777385992577, -1.706469556255533, -0.400...</td>\n",
       "      <td>Pineapple</td>\n",
       "      <td>NaN</td>\n",
       "      <td>NaN</td>\n",
       "    </tr>\n",
       "  </tbody>\n",
       "</table>\n",
       "</div>"
      ],
      "text/plain": [
       "                                              origin  \\\n",
       "0  s3a://vivianorsprojet8/dataset/Pineapple/116_1...   \n",
       "1  s3a://vivianorsprojet8/dataset/Pineapple/119_1...   \n",
       "2  s3a://vivianorsprojet8/dataset/Pineapple/112_1...   \n",
       "3  s3a://vivianorsprojet8/dataset/Pineapple/149_1...   \n",
       "4  s3a://vivianorsprojet8/dataset/Pineapple/121_1...   \n",
       "\n",
       "                                       vectors_redux     target added removed  \n",
       "0  [11.155305263739486, -1.9322724265188072, 0.01...  Pineapple   NaN     NaN  \n",
       "1  [10.836595752156528, -1.647366647527635, -0.50...  Pineapple   NaN     NaN  \n",
       "2  [11.929215624288979, -2.039589383236388, 0.353...  Pineapple   NaN     NaN  \n",
       "3  [11.681932915058056, -1.8990681139259662, -0.8...  Pineapple   NaN     NaN  \n",
       "4  [11.19777385992577, -1.706469556255533, -0.400...  Pineapple   NaN     NaN  "
      ]
     },
     "execution_count": 12,
     "metadata": {},
     "output_type": "execute_result"
    }
   ],
   "source": [
    "# Restriction de la colonne vectors sur les valeurs uniquement :\n",
    "csv_data[\"vectors_redux\"] = pd.json_normalize(csv_data[\"vectors_redux\"])[\"values\"]\n",
    "csv_data.head()"
   ]
  },
  {
   "cell_type": "markdown",
   "metadata": {},
   "source": [
    "#### 3) Export de la matrice :"
   ]
  },
  {
   "cell_type": "code",
   "execution_count": 13,
   "metadata": {},
   "outputs": [],
   "source": [
    "# Export au format CSV :\n",
    "csv_data.to_csv(\"Ors_Vivian_2_images_082022.csv\")"
   ]
  },
  {
   "cell_type": "markdown",
   "metadata": {},
   "source": [
    "## IV - VERS LE DÉPLOIEMENT DE MODÈLES PERFORMANTS :"
   ]
  },
  {
   "cell_type": "markdown",
   "metadata": {
    "application/vnd.databricks.v1+cell": {
     "inputWidgets": {},
     "nuid": "ee72b4a2-bce0-4a8e-8e60-52c74cc4f103",
     "showTitle": false,
     "title": ""
    }
   },
   "source": [
    "### A - Commentaire :"
   ]
  },
  {
   "cell_type": "markdown",
   "metadata": {},
   "source": [
    "La mission de ce projet 8 précisait, je cite \"Il n'est pas nécessaire d’entraîner un modèle pour le moment. L’important est de mettre en place les premières briques de traitement qui serviront lorsqu’il faudra passer à l’échelle en termes de volume de données !\" Le code Spark déployé sur le cloud transforme respecte cette consigne en transformant les images d'entrée en briques véritablement élémentaires, à savoir en vecteurs soumis à une réduction de dimension.\n",
    "\n",
    "D'autres méthodes auraient pu être envisagées, telles que l'utilisation de descripteurs (SIFT, SURF...) ou, surtout, de features pour modèle de CNN Transfer Learning tels que VGG16, VGG19 ou ResNet50. Ces méthodes auraient, cependant, nécessité un budget supérieur du fait du transfert de données, de la taille des images en entrée (224 * 224 * 3) et de calculs plus complexes. Or, tous les coûts inhérents étaient à ma charge...\n",
    "\n",
    "Pour une entreprise qui souhaiterait mettre en place un modèle de reconnaissance d'image, ce type de modèle est évidemment bien plus performant qu'un modèle par vecteurs simples (réduit et redimensionné qui plus est) et doit nécessairement être envisagé dans un avenir proche (et budgétisé).\n",
    "\n",
    "Auparavant, les opérations de CNN Transfer Learning dans un environnement parallélisé s'effectuaient via la librairie SparkDL et ses modules DeepImageFeaturizer, KerasImageFileTransformer et DeepImagePredictor. Cette librairie est aujourd'hui obsolète ; elle n'est plus mise à jour et ne fonctionne plus avec les dernières librairies Tensorflow. Le deep learning avec Spark s'effectue aujourd'hui principalement avec le module \"pandas_udf\" qui s'utilise comme un décorateur. On peut en voir un exemple dans l'article sur le preprocessing d'image avec Pyspark : https://godatadriven.com/blog/real-distributed-image-processing-with-apache-spark/\n",
    "\n",
    "J'ai adapté la méthode des chercheurs qui ont rédigé cet article à notre problématique. Le code qui suit transforme donc nos images en features pour un modèle VGG16. Il a été créé et testé sur Databricks Community Edition puis mis en page sur Jupyter Notebook. Mais encore une fois, et pour des raisons de coûts, il n'a pas été déployé sur AWS et la méthode précédente des vecteurs simples lui a été préférée pour cette opération. "
   ]
  },
  {
   "cell_type": "markdown",
   "metadata": {},
   "source": [
    "### B - Préalables :"
   ]
  },
  {
   "cell_type": "markdown",
   "metadata": {},
   "source": [
    "#### 1) Importation des librairies :"
   ]
  },
  {
   "cell_type": "code",
   "execution_count": 0,
   "metadata": {
    "application/vnd.databricks.v1+cell": {
     "inputWidgets": {},
     "nuid": "c04f4280-d62e-445c-82c9-65bd46b0c151",
     "showTitle": false,
     "title": ""
    }
   },
   "outputs": [],
   "source": [
    "from typing import Iterator\n",
    "import numpy as np\n",
    "import pandas as pd\n",
    "from PIL import Image\n",
    "from pyspark import SparkContext\n",
    "from pyspark.sql import SparkSession\n",
    "from pyspark.sql.functions import pandas_udf, col, split\n",
    "from pyspark.sql.types import StructType, StructField, ArrayType, IntegerType, FloatType\n",
    "from pyspark.ml.image import ImageSchema\n",
    "from pyspark.ml.linalg import VectorUDT, Vectors\n",
    "from pyspark.ml.feature import PCA\n",
    "from tensorflow.keras.applications.vgg16 import VGG16\n",
    "from tensorflow.keras.applications.vgg16 import preprocess_input\n",
    "from tensorflow.keras.models import Model"
   ]
  },
  {
   "cell_type": "markdown",
   "metadata": {},
   "source": [
    "#### 2) Adresse du répertoire :"
   ]
  },
  {
   "cell_type": "code",
   "execution_count": 0,
   "metadata": {
    "application/vnd.databricks.v1+cell": {
     "inputWidgets": {},
     "nuid": "0785d3be-c9b3-45a3-a5bc-b114b92841ff",
     "showTitle": false,
     "title": ""
    }
   },
   "outputs": [],
   "source": [
    "# Adresse du répertoire :\n",
    "path = \"/FileStore/shared_uploads/histcomsfh@gmail.com/dataset/\""
   ]
  },
  {
   "cell_type": "markdown",
   "metadata": {},
   "source": [
    "#### 3) Instanciation de Spark :"
   ]
  },
  {
   "cell_type": "code",
   "execution_count": 0,
   "metadata": {
    "application/vnd.databricks.v1+cell": {
     "inputWidgets": {},
     "nuid": "07ce4a8c-b8b8-40e0-a707-52a450c9742e",
     "showTitle": false,
     "title": ""
    }
   },
   "outputs": [],
   "source": [
    "# Instanciation de Spark :\n",
    "sc = SparkContext.getOrCreate()\n",
    "spark = SparkSession.builder.getOrCreate()"
   ]
  },
  {
   "cell_type": "markdown",
   "metadata": {},
   "source": [
    "### C - Opération de transformation en features pour VGG16 :"
   ]
  },
  {
   "cell_type": "markdown",
   "metadata": {},
   "source": [
    "#### 1) Chargement des images :"
   ]
  },
  {
   "cell_type": "code",
   "execution_count": 0,
   "metadata": {
    "application/vnd.databricks.v1+cell": {
     "inputWidgets": {},
     "nuid": "fd2e899f-398f-48c7-849a-690353594d8e",
     "showTitle": false,
     "title": ""
    }
   },
   "outputs": [],
   "source": [
    "# Récupération des images :\n",
    "df = spark.read.format(\"image\").load(path + \"*\")"
   ]
  },
  {
   "cell_type": "markdown",
   "metadata": {},
   "source": [
    "#### 2) Traitement et redimensionnement des images au format VGG16 :"
   ]
  },
  {
   "cell_type": "code",
   "execution_count": 0,
   "metadata": {
    "application/vnd.databricks.v1+cell": {
     "inputWidgets": {},
     "nuid": "aaef4696-40e8-46b6-afbd-ec4ac0198ff0",
     "showTitle": false,
     "title": ""
    }
   },
   "outputs": [
    {
     "data": {
      "text/plain": [
       "+--------------------+------+-----+---------+----+--------------------+--------------------+\n",
       "|              origin|height|width|nChannels|mode|                data|          data_array|\n",
       "+--------------------+------+-----+---------+----+--------------------+--------------------+\n",
       "|dbfs:/FileStore/s...|   100|  100|        3|  16|[FF FF FE FF FF F...|[255, 255, 254, 2...|\n",
       "|dbfs:/FileStore/s...|   100|  100|        3|  16|[FF FF FE FF FF F...|[255, 255, 254, 2...|\n",
       "|dbfs:/FileStore/s...|   100|  100|        3|  16|[FF FF FE FF FF F...|[255, 255, 254, 2...|\n",
       "|dbfs:/FileStore/s...|   100|  100|        3|  16|[FF FF FE FF FF F...|[255, 255, 254, 2...|\n",
       "|dbfs:/FileStore/s...|   100|  100|        3|  16|[FF FF FF FF FF F...|[255, 255, 255, 2...|\n",
       "|dbfs:/FileStore/s...|   100|  100|        3|  16|[FF FF FE FF FF F...|[255, 255, 254, 2...|\n",
       "|dbfs:/FileStore/s...|   100|  100|        3|  16|[FD FE FF FD FF F...|[253, 254, 255, 2...|\n",
       "|dbfs:/FileStore/s...|   100|  100|        3|  16|[FF FF FE FF FF F...|[255, 255, 254, 2...|\n",
       "|dbfs:/FileStore/s...|   100|  100|        3|  16|[FF FF FE FF FF F...|[255, 255, 254, 2...|\n",
       "|dbfs:/FileStore/s...|   100|  100|        3|  16|[FF FF FF FF FF F...|[255, 255, 255, 2...|\n",
       "|dbfs:/FileStore/s...|   100|  100|        3|  16|[FF FF FE FF FF F...|[255, 255, 254, 2...|\n",
       "|dbfs:/FileStore/s...|   100|  100|        3|  16|[FF FE FF FF FE F...|[255, 254, 255, 2...|\n",
       "|dbfs:/FileStore/s...|   100|  100|        3|  16|[FF FF FE FF FF F...|[255, 255, 254, 2...|\n",
       "|dbfs:/FileStore/s...|   100|  100|        3|  16|[FD FE FF FD FF F...|[253, 254, 255, 2...|\n",
       "|dbfs:/FileStore/s...|   100|  100|        3|  16|[FF FF FF FF FF F...|[255, 255, 255, 2...|\n",
       "|dbfs:/FileStore/s...|   100|  100|        3|  16|[FF FF FE FF FF F...|[255, 255, 254, 2...|\n",
       "|dbfs:/FileStore/s...|   100|  100|        3|  16|[FF FF FE FF FF F...|[255, 255, 254, 2...|\n",
       "|dbfs:/FileStore/s...|   100|  100|        3|  16|[FD FE FF FD FF F...|[253, 254, 255, 2...|\n",
       "|dbfs:/FileStore/s...|   100|  100|        3|  16|[FF FE FF FF FE F...|[255, 254, 255, 2...|\n",
       "|dbfs:/FileStore/s...|   100|  100|        3|  16|[FF FF FE FF FF F...|[255, 255, 254, 2...|\n",
       "+--------------------+------+-----+---------+----+--------------------+--------------------+\n",
       "only showing top 20 rows\n",
       "\n"
      ]
     },
     "metadata": {
      "application/vnd.databricks.v1+output": {
       "addedWidgets": {},
       "arguments": {},
       "data": "+--------------------+------+-----+---------+----+--------------------+--------------------+\n|              origin|height|width|nChannels|mode|                data|          data_array|\n+--------------------+------+-----+---------+----+--------------------+--------------------+\n|dbfs:/FileStore/s...|   100|  100|        3|  16|[FF FF FE FF FF F...|[255, 255, 254, 2...|\n|dbfs:/FileStore/s...|   100|  100|        3|  16|[FF FF FE FF FF F...|[255, 255, 254, 2...|\n|dbfs:/FileStore/s...|   100|  100|        3|  16|[FF FF FE FF FF F...|[255, 255, 254, 2...|\n|dbfs:/FileStore/s...|   100|  100|        3|  16|[FF FF FE FF FF F...|[255, 255, 254, 2...|\n|dbfs:/FileStore/s...|   100|  100|        3|  16|[FF FF FF FF FF F...|[255, 255, 255, 2...|\n|dbfs:/FileStore/s...|   100|  100|        3|  16|[FF FF FE FF FF F...|[255, 255, 254, 2...|\n|dbfs:/FileStore/s...|   100|  100|        3|  16|[FD FE FF FD FF F...|[253, 254, 255, 2...|\n|dbfs:/FileStore/s...|   100|  100|        3|  16|[FF FF FE FF FF F...|[255, 255, 254, 2...|\n|dbfs:/FileStore/s...|   100|  100|        3|  16|[FF FF FE FF FF F...|[255, 255, 254, 2...|\n|dbfs:/FileStore/s...|   100|  100|        3|  16|[FF FF FF FF FF F...|[255, 255, 255, 2...|\n|dbfs:/FileStore/s...|   100|  100|        3|  16|[FF FF FE FF FF F...|[255, 255, 254, 2...|\n|dbfs:/FileStore/s...|   100|  100|        3|  16|[FF FE FF FF FE F...|[255, 254, 255, 2...|\n|dbfs:/FileStore/s...|   100|  100|        3|  16|[FF FF FE FF FF F...|[255, 255, 254, 2...|\n|dbfs:/FileStore/s...|   100|  100|        3|  16|[FD FE FF FD FF F...|[253, 254, 255, 2...|\n|dbfs:/FileStore/s...|   100|  100|        3|  16|[FF FF FF FF FF F...|[255, 255, 255, 2...|\n|dbfs:/FileStore/s...|   100|  100|        3|  16|[FF FF FE FF FF F...|[255, 255, 254, 2...|\n|dbfs:/FileStore/s...|   100|  100|        3|  16|[FF FF FE FF FF F...|[255, 255, 254, 2...|\n|dbfs:/FileStore/s...|   100|  100|        3|  16|[FD FE FF FD FF F...|[253, 254, 255, 2...|\n|dbfs:/FileStore/s...|   100|  100|        3|  16|[FF FE FF FF FE F...|[255, 254, 255, 2...|\n|dbfs:/FileStore/s...|   100|  100|        3|  16|[FF FF FE FF FF F...|[255, 255, 254, 2...|\n+--------------------+------+-----+---------+----+--------------------+--------------------+\nonly showing top 20 rows\n\n",
       "datasetInfos": [],
       "metadata": {},
       "removedWidgets": [],
       "type": "ansi"
      }
     },
     "output_type": "display_data"
    }
   ],
   "source": [
    "# Traitement et redimensionnement des images (à cause d'erreurs mémoire)\n",
    "schema = StructType(df.select(\"image.*\").schema.fields + [\n",
    "    StructField(\"data_array\", ArrayType(IntegerType()), True)\n",
    "])\n",
    "\n",
    "def preprocess_array_image(data):\n",
    "    mode = 'RGB' \n",
    "    img = Image.frombytes(mode=mode, data=data.data, size=[100, 100])\n",
    "    img = img.resize([224, 224])\n",
    "    arr = np.asarray(img)\n",
    "    arr = arr.reshape([224*224*3])\n",
    "    return arr\n",
    "\n",
    "def array_image(dataframe_batch_iterator: Iterator[pd.DataFrame]) -> Iterator[pd.DataFrame]:\n",
    "    for dataframe_batch in dataframe_batch_iterator:\n",
    "        dataframe_batch[\"data_array\"] = dataframe_batch.apply(preprocess_array_image, axis=1)\n",
    "        yield dataframe_batch\n",
    "\n",
    "df = df.select(\"image.*\").mapInPandas(array_image, schema)\n",
    "\n",
    "df.show()"
   ]
  },
  {
   "cell_type": "markdown",
   "metadata": {},
   "source": [
    "#### 3) Transfert de modèle (VGG16) et calcul des features :"
   ]
  },
  {
   "cell_type": "code",
   "execution_count": 0,
   "metadata": {
    "application/vnd.databricks.v1+cell": {
     "inputWidgets": {},
     "nuid": "4e310f5c-d3b8-4b6b-954e-5473f3c6ba46",
     "showTitle": false,
     "title": ""
    }
   },
   "outputs": [
    {
     "data": {
      "text/plain": [
       "+--------------------+------+-----+---------+----+--------------------+--------------------+--------------------+\n",
       "|              origin|height|width|nChannels|mode|                data|          data_array|        cnn_features|\n",
       "+--------------------+------+-----+---------+----+--------------------+--------------------+--------------------+\n",
       "|dbfs:/FileStore/s...|   100|  100|        3|  16|[FF FF FE FF FF F...|[255, 255, 254, 2...|[3.4809058E-5, 9....|\n",
       "|dbfs:/FileStore/s...|   100|  100|        3|  16|[FF FF FE FF FF F...|[255, 255, 254, 2...|[4.8657355E-5, 1....|\n",
       "|dbfs:/FileStore/s...|   100|  100|        3|  16|[FF FF FE FF FF F...|[255, 255, 254, 2...|[5.0807892E-5, 9....|\n",
       "|dbfs:/FileStore/s...|   100|  100|        3|  16|[FF FF FE FF FF F...|[255, 255, 254, 2...|[8.080019E-5, 1.8...|\n",
       "|dbfs:/FileStore/s...|   100|  100|        3|  16|[FF FF FF FF FF F...|[255, 255, 255, 2...|[3.6515834E-5, 5....|\n",
       "|dbfs:/FileStore/s...|   100|  100|        3|  16|[FF FF FE FF FF F...|[255, 255, 254, 2...|[3.8283386E-5, 8....|\n",
       "|dbfs:/FileStore/s...|   100|  100|        3|  16|[FD FE FF FD FF F...|[253, 254, 255, 2...|[3.791086E-5, 6.6...|\n",
       "|dbfs:/FileStore/s...|   100|  100|        3|  16|[FF FF FE FF FF F...|[255, 255, 254, 2...|[5.01877E-5, 1.16...|\n",
       "|dbfs:/FileStore/s...|   100|  100|        3|  16|[FF FF FE FF FF F...|[255, 255, 254, 2...|[5.021872E-5, 9.4...|\n",
       "|dbfs:/FileStore/s...|   100|  100|        3|  16|[FF FF FF FF FF F...|[255, 255, 255, 2...|[2.6343692E-5, 6....|\n",
       "|dbfs:/FileStore/s...|   100|  100|        3|  16|[FF FF FE FF FF F...|[255, 255, 254, 2...|[3.8070048E-5, 1....|\n",
       "|dbfs:/FileStore/s...|   100|  100|        3|  16|[FF FE FF FF FE F...|[255, 254, 255, 2...|[3.170783E-5, 7.6...|\n",
       "|dbfs:/FileStore/s...|   100|  100|        3|  16|[FF FF FE FF FF F...|[255, 255, 254, 2...|[4.150098E-5, 1.0...|\n",
       "|dbfs:/FileStore/s...|   100|  100|        3|  16|[FD FE FF FD FF F...|[253, 254, 255, 2...|[4.3894423E-5, 5....|\n",
       "|dbfs:/FileStore/s...|   100|  100|        3|  16|[FF FF FF FF FF F...|[255, 255, 255, 2...|[2.98462E-5, 5.62...|\n",
       "|dbfs:/FileStore/s...|   100|  100|        3|  16|[FF FF FE FF FF F...|[255, 255, 254, 2...|[3.4378903E-5, 5....|\n",
       "|dbfs:/FileStore/s...|   100|  100|        3|  16|[FF FF FE FF FF F...|[255, 255, 254, 2...|[7.1358365E-5, 1....|\n",
       "|dbfs:/FileStore/s...|   100|  100|        3|  16|[FD FE FF FD FF F...|[253, 254, 255, 2...|[4.7139907E-5, 8....|\n",
       "|dbfs:/FileStore/s...|   100|  100|        3|  16|[FF FE FF FF FE F...|[255, 254, 255, 2...|[8.29874E-5, 7.93...|\n",
       "|dbfs:/FileStore/s...|   100|  100|        3|  16|[FF FF FE FF FF F...|[255, 255, 254, 2...|[4.813331E-5, 9.0...|\n",
       "+--------------------+------+-----+---------+----+--------------------+--------------------+--------------------+\n",
       "only showing top 20 rows\n",
       "\n"
      ]
     },
     "metadata": {
      "application/vnd.databricks.v1+output": {
       "addedWidgets": {},
       "arguments": {},
       "data": "+--------------------+------+-----+---------+----+--------------------+--------------------+--------------------+\n|              origin|height|width|nChannels|mode|                data|          data_array|        cnn_features|\n+--------------------+------+-----+---------+----+--------------------+--------------------+--------------------+\n|dbfs:/FileStore/s...|   100|  100|        3|  16|[FF FF FE FF FF F...|[255, 255, 254, 2...|[3.4809058E-5, 9....|\n|dbfs:/FileStore/s...|   100|  100|        3|  16|[FF FF FE FF FF F...|[255, 255, 254, 2...|[4.8657355E-5, 1....|\n|dbfs:/FileStore/s...|   100|  100|        3|  16|[FF FF FE FF FF F...|[255, 255, 254, 2...|[5.0807892E-5, 9....|\n|dbfs:/FileStore/s...|   100|  100|        3|  16|[FF FF FE FF FF F...|[255, 255, 254, 2...|[8.080019E-5, 1.8...|\n|dbfs:/FileStore/s...|   100|  100|        3|  16|[FF FF FF FF FF F...|[255, 255, 255, 2...|[3.6515834E-5, 5....|\n|dbfs:/FileStore/s...|   100|  100|        3|  16|[FF FF FE FF FF F...|[255, 255, 254, 2...|[3.8283386E-5, 8....|\n|dbfs:/FileStore/s...|   100|  100|        3|  16|[FD FE FF FD FF F...|[253, 254, 255, 2...|[3.791086E-5, 6.6...|\n|dbfs:/FileStore/s...|   100|  100|        3|  16|[FF FF FE FF FF F...|[255, 255, 254, 2...|[5.01877E-5, 1.16...|\n|dbfs:/FileStore/s...|   100|  100|        3|  16|[FF FF FE FF FF F...|[255, 255, 254, 2...|[5.021872E-5, 9.4...|\n|dbfs:/FileStore/s...|   100|  100|        3|  16|[FF FF FF FF FF F...|[255, 255, 255, 2...|[2.6343692E-5, 6....|\n|dbfs:/FileStore/s...|   100|  100|        3|  16|[FF FF FE FF FF F...|[255, 255, 254, 2...|[3.8070048E-5, 1....|\n|dbfs:/FileStore/s...|   100|  100|        3|  16|[FF FE FF FF FE F...|[255, 254, 255, 2...|[3.170783E-5, 7.6...|\n|dbfs:/FileStore/s...|   100|  100|        3|  16|[FF FF FE FF FF F...|[255, 255, 254, 2...|[4.150098E-5, 1.0...|\n|dbfs:/FileStore/s...|   100|  100|        3|  16|[FD FE FF FD FF F...|[253, 254, 255, 2...|[4.3894423E-5, 5....|\n|dbfs:/FileStore/s...|   100|  100|        3|  16|[FF FF FF FF FF F...|[255, 255, 255, 2...|[2.98462E-5, 5.62...|\n|dbfs:/FileStore/s...|   100|  100|        3|  16|[FF FF FE FF FF F...|[255, 255, 254, 2...|[3.4378903E-5, 5....|\n|dbfs:/FileStore/s...|   100|  100|        3|  16|[FF FF FE FF FF F...|[255, 255, 254, 2...|[7.1358365E-5, 1....|\n|dbfs:/FileStore/s...|   100|  100|        3|  16|[FD FE FF FD FF F...|[253, 254, 255, 2...|[4.7139907E-5, 8....|\n|dbfs:/FileStore/s...|   100|  100|        3|  16|[FF FE FF FF FE F...|[255, 254, 255, 2...|[8.29874E-5, 7.93...|\n|dbfs:/FileStore/s...|   100|  100|        3|  16|[FF FF FE FF FF F...|[255, 255, 254, 2...|[4.813331E-5, 9.0...|\n+--------------------+------+-----+---------+----+--------------------+--------------------+--------------------+\nonly showing top 20 rows\n\n",
       "datasetInfos": [],
       "metadata": {},
       "removedWidgets": [],
       "type": "ansi"
      }
     },
     "output_type": "display_data"
    }
   ],
   "source": [
    "# Préparation des images et récupération des features :\n",
    "def normalize_array(arr):\n",
    "    return preprocess_input(arr.reshape([224,224,3]))\n",
    "\n",
    "@pandas_udf(ArrayType(FloatType()))\n",
    "def featurize(iterator: Iterator[pd.Series]) -> Iterator[pd.Series] :\n",
    "    model = VGG16()\n",
    "    model = Model(inputs=model.inputs, outputs=model.layers[-1].output)\n",
    "    for input_array in iterator :\n",
    "        normalized_input = np.stack(input_array.map(normalize_array))\n",
    "        preds = model.predict(normalized_input)\n",
    "        yield pd.Series(list(preds))\n",
    "df = df.withColumn(\"cnn_features\", featurize(\"data_array\"))\n",
    "df.show()"
   ]
  },
  {
   "cell_type": "markdown",
   "metadata": {},
   "source": [
    "#### 4) Vectorisation des features :"
   ]
  },
  {
   "cell_type": "code",
   "execution_count": 0,
   "metadata": {
    "application/vnd.databricks.v1+cell": {
     "inputWidgets": {},
     "nuid": "7fb00f7a-1c00-4ab7-846f-660a463257b2",
     "showTitle": false,
     "title": ""
    }
   },
   "outputs": [
    {
     "data": {
      "text/plain": [
       "+--------------------+------+-----+---------+----+--------------------+--------------------+--------------------+--------------------+\n",
       "|              origin|height|width|nChannels|mode|                data|          data_array|        cnn_features|         cnn_vectors|\n",
       "+--------------------+------+-----+---------+----+--------------------+--------------------+--------------------+--------------------+\n",
       "|dbfs:/FileStore/s...|   100|  100|        3|  16|[FF FF FE FF FF F...|[255, 255, 254, 2...|[3.4809058E-5, 9....|[3.48090579791460...|\n",
       "|dbfs:/FileStore/s...|   100|  100|        3|  16|[FF FF FE FF FF F...|[255, 255, 254, 2...|[4.8657355E-5, 1....|[4.86573553644120...|\n",
       "|dbfs:/FileStore/s...|   100|  100|        3|  16|[FF FF FE FF FF F...|[255, 255, 254, 2...|[5.0807892E-5, 9....|[5.08078919665422...|\n",
       "|dbfs:/FileStore/s...|   100|  100|        3|  16|[FF FF FE FF FF F...|[255, 255, 254, 2...|[8.080019E-5, 1.8...|[8.08001932455226...|\n",
       "|dbfs:/FileStore/s...|   100|  100|        3|  16|[FF FF FF FF FF F...|[255, 255, 255, 2...|[3.6515834E-5, 5....|[3.65158339263871...|\n",
       "|dbfs:/FileStore/s...|   100|  100|        3|  16|[FF FF FE FF FF F...|[255, 255, 254, 2...|[3.8283386E-5, 8....|[3.82833859475795...|\n",
       "|dbfs:/FileStore/s...|   100|  100|        3|  16|[FD FE FF FD FF F...|[253, 254, 255, 2...|[3.791086E-5, 6.6...|[3.79108605557121...|\n",
       "|dbfs:/FileStore/s...|   100|  100|        3|  16|[FF FF FE FF FF F...|[255, 255, 254, 2...|[5.01877E-5, 1.16...|[5.01877002534456...|\n",
       "|dbfs:/FileStore/s...|   100|  100|        3|  16|[FF FF FE FF FF F...|[255, 255, 254, 2...|[5.021872E-5, 9.4...|[5.02187212987337...|\n",
       "|dbfs:/FileStore/s...|   100|  100|        3|  16|[FF FF FF FF FF F...|[255, 255, 255, 2...|[2.6343692E-5, 6....|[2.63436922978144...|\n",
       "|dbfs:/FileStore/s...|   100|  100|        3|  16|[FF FF FE FF FF F...|[255, 255, 254, 2...|[3.8070048E-5, 1....|[3.80700475943740...|\n",
       "|dbfs:/FileStore/s...|   100|  100|        3|  16|[FF FE FF FF FE F...|[255, 254, 255, 2...|[3.170783E-5, 7.6...|[3.17078302032314...|\n",
       "|dbfs:/FileStore/s...|   100|  100|        3|  16|[FF FF FE FF FF F...|[255, 255, 254, 2...|[4.150098E-5, 1.0...|[4.15009817515965...|\n",
       "|dbfs:/FileStore/s...|   100|  100|        3|  16|[FD FE FF FD FF F...|[253, 254, 255, 2...|[4.3894423E-5, 5....|[4.38944225606974...|\n",
       "|dbfs:/FileStore/s...|   100|  100|        3|  16|[FF FF FF FF FF F...|[255, 255, 255, 2...|[2.98462E-5, 5.62...|[2.98462000500876...|\n",
       "|dbfs:/FileStore/s...|   100|  100|        3|  16|[FF FF FE FF FF F...|[255, 255, 254, 2...|[3.4378903E-5, 5....|[3.43789033649954...|\n",
       "|dbfs:/FileStore/s...|   100|  100|        3|  16|[FF FF FE FF FF F...|[255, 255, 254, 2...|[7.1358365E-5, 1....|[7.13583649485372...|\n",
       "|dbfs:/FileStore/s...|   100|  100|        3|  16|[FD FE FF FD FF F...|[253, 254, 255, 2...|[4.7139907E-5, 8....|[4.71399071102496...|\n",
       "|dbfs:/FileStore/s...|   100|  100|        3|  16|[FF FE FF FF FE F...|[255, 254, 255, 2...|[8.29874E-5, 7.93...|[8.29873970360495...|\n",
       "|dbfs:/FileStore/s...|   100|  100|        3|  16|[FF FF FE FF FF F...|[255, 255, 254, 2...|[4.813331E-5, 9.0...|[4.81333117932081...|\n",
       "+--------------------+------+-----+---------+----+--------------------+--------------------+--------------------+--------------------+\n",
       "only showing top 20 rows\n",
       "\n"
      ]
     },
     "metadata": {
      "application/vnd.databricks.v1+output": {
       "addedWidgets": {},
       "arguments": {},
       "data": "+--------------------+------+-----+---------+----+--------------------+--------------------+--------------------+--------------------+\n|              origin|height|width|nChannels|mode|                data|          data_array|        cnn_features|         cnn_vectors|\n+--------------------+------+-----+---------+----+--------------------+--------------------+--------------------+--------------------+\n|dbfs:/FileStore/s...|   100|  100|        3|  16|[FF FF FE FF FF F...|[255, 255, 254, 2...|[3.4809058E-5, 9....|[3.48090579791460...|\n|dbfs:/FileStore/s...|   100|  100|        3|  16|[FF FF FE FF FF F...|[255, 255, 254, 2...|[4.8657355E-5, 1....|[4.86573553644120...|\n|dbfs:/FileStore/s...|   100|  100|        3|  16|[FF FF FE FF FF F...|[255, 255, 254, 2...|[5.0807892E-5, 9....|[5.08078919665422...|\n|dbfs:/FileStore/s...|   100|  100|        3|  16|[FF FF FE FF FF F...|[255, 255, 254, 2...|[8.080019E-5, 1.8...|[8.08001932455226...|\n|dbfs:/FileStore/s...|   100|  100|        3|  16|[FF FF FF FF FF F...|[255, 255, 255, 2...|[3.6515834E-5, 5....|[3.65158339263871...|\n|dbfs:/FileStore/s...|   100|  100|        3|  16|[FF FF FE FF FF F...|[255, 255, 254, 2...|[3.8283386E-5, 8....|[3.82833859475795...|\n|dbfs:/FileStore/s...|   100|  100|        3|  16|[FD FE FF FD FF F...|[253, 254, 255, 2...|[3.791086E-5, 6.6...|[3.79108605557121...|\n|dbfs:/FileStore/s...|   100|  100|        3|  16|[FF FF FE FF FF F...|[255, 255, 254, 2...|[5.01877E-5, 1.16...|[5.01877002534456...|\n|dbfs:/FileStore/s...|   100|  100|        3|  16|[FF FF FE FF FF F...|[255, 255, 254, 2...|[5.021872E-5, 9.4...|[5.02187212987337...|\n|dbfs:/FileStore/s...|   100|  100|        3|  16|[FF FF FF FF FF F...|[255, 255, 255, 2...|[2.6343692E-5, 6....|[2.63436922978144...|\n|dbfs:/FileStore/s...|   100|  100|        3|  16|[FF FF FE FF FF F...|[255, 255, 254, 2...|[3.8070048E-5, 1....|[3.80700475943740...|\n|dbfs:/FileStore/s...|   100|  100|        3|  16|[FF FE FF FF FE F...|[255, 254, 255, 2...|[3.170783E-5, 7.6...|[3.17078302032314...|\n|dbfs:/FileStore/s...|   100|  100|        3|  16|[FF FF FE FF FF F...|[255, 255, 254, 2...|[4.150098E-5, 1.0...|[4.15009817515965...|\n|dbfs:/FileStore/s...|   100|  100|        3|  16|[FD FE FF FD FF F...|[253, 254, 255, 2...|[4.3894423E-5, 5....|[4.38944225606974...|\n|dbfs:/FileStore/s...|   100|  100|        3|  16|[FF FF FF FF FF F...|[255, 255, 255, 2...|[2.98462E-5, 5.62...|[2.98462000500876...|\n|dbfs:/FileStore/s...|   100|  100|        3|  16|[FF FF FE FF FF F...|[255, 255, 254, 2...|[3.4378903E-5, 5....|[3.43789033649954...|\n|dbfs:/FileStore/s...|   100|  100|        3|  16|[FF FF FE FF FF F...|[255, 255, 254, 2...|[7.1358365E-5, 1....|[7.13583649485372...|\n|dbfs:/FileStore/s...|   100|  100|        3|  16|[FD FE FF FD FF F...|[253, 254, 255, 2...|[4.7139907E-5, 8....|[4.71399071102496...|\n|dbfs:/FileStore/s...|   100|  100|        3|  16|[FF FE FF FF FE F...|[255, 254, 255, 2...|[8.29874E-5, 7.93...|[8.29873970360495...|\n|dbfs:/FileStore/s...|   100|  100|        3|  16|[FF FF FE FF FF F...|[255, 255, 254, 2...|[4.813331E-5, 9.0...|[4.81333117932081...|\n+--------------------+------+-----+---------+----+--------------------+--------------------+--------------------+--------------------+\nonly showing top 20 rows\n\n",
       "datasetInfos": [],
       "metadata": {},
       "removedWidgets": [],
       "type": "ansi"
      }
     },
     "output_type": "display_data"
    }
   ],
   "source": [
    "# Vectorisation :\n",
    "ImageSchema.imageFields\n",
    "img2vec = udf(lambda l: Vectors.dense(l), VectorUDT())\n",
    "df = df.withColumn(\"cnn_vectors\", img2vec(\"cnn_features\"))\n",
    "df.show()"
   ]
  },
  {
   "cell_type": "markdown",
   "metadata": {},
   "source": [
    "#### 5) Réduction de dimension :"
   ]
  },
  {
   "cell_type": "code",
   "execution_count": 0,
   "metadata": {
    "application/vnd.databricks.v1+cell": {
     "inputWidgets": {},
     "nuid": "d9c213e6-44d6-46b4-9956-aead1635b218",
     "showTitle": false,
     "title": ""
    }
   },
   "outputs": [
    {
     "data": {
      "text/plain": [
       "+--------------------+------+-----+---------+----+--------------------+--------------------+--------------------+--------------------+--------------------+\n",
       "|              origin|height|width|nChannels|mode|                data|          data_array|        cnn_features|         cnn_vectors|   cnn_vectors_redux|\n",
       "+--------------------+------+-----+---------+----+--------------------+--------------------+--------------------+--------------------+--------------------+\n",
       "|dbfs:/FileStore/s...|   100|  100|        3|  16|[FF FF FE FF FF F...|[255, 255, 254, 2...|[3.4809058E-5, 9....|[3.48090579791460...|[-0.1024032552965...|\n",
       "|dbfs:/FileStore/s...|   100|  100|        3|  16|[FF FF FE FF FF F...|[255, 255, 254, 2...|[4.8657355E-5, 1....|[4.86573553644120...|[-0.1533783567273...|\n",
       "|dbfs:/FileStore/s...|   100|  100|        3|  16|[FF FF FE FF FF F...|[255, 255, 254, 2...|[5.0807892E-5, 9....|[5.08078919665422...|[-0.0969303836251...|\n",
       "|dbfs:/FileStore/s...|   100|  100|        3|  16|[FF FF FE FF FF F...|[255, 255, 254, 2...|[8.080019E-5, 1.8...|[8.08001932455226...|[-0.1843001580400...|\n",
       "|dbfs:/FileStore/s...|   100|  100|        3|  16|[FF FF FF FF FF F...|[255, 255, 255, 2...|[3.6515834E-5, 5....|[3.65158339263871...|[-0.1863476434376...|\n",
       "|dbfs:/FileStore/s...|   100|  100|        3|  16|[FF FF FE FF FF F...|[255, 255, 254, 2...|[3.8283386E-5, 8....|[3.82833859475795...|[-0.1301558632758...|\n",
       "|dbfs:/FileStore/s...|   100|  100|        3|  16|[FD FE FF FD FF F...|[253, 254, 255, 2...|[3.791086E-5, 6.6...|[3.79108605557121...|[-0.2890689602910...|\n",
       "|dbfs:/FileStore/s...|   100|  100|        3|  16|[FF FF FE FF FF F...|[255, 255, 254, 2...|[5.01877E-5, 1.16...|[5.01877002534456...|[-0.1056316452319...|\n",
       "|dbfs:/FileStore/s...|   100|  100|        3|  16|[FF FF FE FF FF F...|[255, 255, 254, 2...|[5.021872E-5, 9.4...|[5.02187212987337...|[-0.1519747746637...|\n",
       "|dbfs:/FileStore/s...|   100|  100|        3|  16|[FF FF FF FF FF F...|[255, 255, 255, 2...|[2.6343692E-5, 6....|[2.63436922978144...|[-0.1755102466477...|\n",
       "|dbfs:/FileStore/s...|   100|  100|        3|  16|[FF FF FE FF FF F...|[255, 255, 254, 2...|[3.8070048E-5, 1....|[3.80700475943740...|[-0.1570375198800...|\n",
       "|dbfs:/FileStore/s...|   100|  100|        3|  16|[FF FE FF FF FE F...|[255, 254, 255, 2...|[3.170783E-5, 7.6...|[3.17078302032314...|[-0.2993274910043...|\n",
       "|dbfs:/FileStore/s...|   100|  100|        3|  16|[FF FF FE FF FF F...|[255, 255, 254, 2...|[4.150098E-5, 1.0...|[4.15009817515965...|[-0.1008365092449...|\n",
       "|dbfs:/FileStore/s...|   100|  100|        3|  16|[FD FE FF FD FF F...|[253, 254, 255, 2...|[4.3894423E-5, 5....|[4.38944225606974...|[-0.3029915390697...|\n",
       "|dbfs:/FileStore/s...|   100|  100|        3|  16|[FF FF FF FF FF F...|[255, 255, 255, 2...|[2.98462E-5, 5.62...|[2.98462000500876...|[-0.2142049362387...|\n",
       "|dbfs:/FileStore/s...|   100|  100|        3|  16|[FF FF FE FF FF F...|[255, 255, 254, 2...|[3.4378903E-5, 5....|[3.43789033649954...|[-0.1185210081856...|\n",
       "|dbfs:/FileStore/s...|   100|  100|        3|  16|[FF FF FE FF FF F...|[255, 255, 254, 2...|[7.1358365E-5, 1....|[7.13583649485372...|[-0.1079886219492...|\n",
       "|dbfs:/FileStore/s...|   100|  100|        3|  16|[FD FE FF FD FF F...|[253, 254, 255, 2...|[4.7139907E-5, 8....|[4.71399071102496...|[-0.1599923562301...|\n",
       "|dbfs:/FileStore/s...|   100|  100|        3|  16|[FF FE FF FF FE F...|[255, 254, 255, 2...|[8.29874E-5, 7.93...|[8.29873970360495...|[-0.2556823929389...|\n",
       "|dbfs:/FileStore/s...|   100|  100|        3|  16|[FF FF FE FF FF F...|[255, 255, 254, 2...|[4.813331E-5, 9.0...|[4.81333117932081...|[-0.2341157175511...|\n",
       "+--------------------+------+-----+---------+----+--------------------+--------------------+--------------------+--------------------+--------------------+\n",
       "only showing top 20 rows\n",
       "\n"
      ]
     },
     "metadata": {
      "application/vnd.databricks.v1+output": {
       "addedWidgets": {},
       "arguments": {},
       "data": "+--------------------+------+-----+---------+----+--------------------+--------------------+--------------------+--------------------+--------------------+\n|              origin|height|width|nChannels|mode|                data|          data_array|        cnn_features|         cnn_vectors|   cnn_vectors_redux|\n+--------------------+------+-----+---------+----+--------------------+--------------------+--------------------+--------------------+--------------------+\n|dbfs:/FileStore/s...|   100|  100|        3|  16|[FF FF FE FF FF F...|[255, 255, 254, 2...|[3.4809058E-5, 9....|[3.48090579791460...|[-0.1024032552965...|\n|dbfs:/FileStore/s...|   100|  100|        3|  16|[FF FF FE FF FF F...|[255, 255, 254, 2...|[4.8657355E-5, 1....|[4.86573553644120...|[-0.1533783567273...|\n|dbfs:/FileStore/s...|   100|  100|        3|  16|[FF FF FE FF FF F...|[255, 255, 254, 2...|[5.0807892E-5, 9....|[5.08078919665422...|[-0.0969303836251...|\n|dbfs:/FileStore/s...|   100|  100|        3|  16|[FF FF FE FF FF F...|[255, 255, 254, 2...|[8.080019E-5, 1.8...|[8.08001932455226...|[-0.1843001580400...|\n|dbfs:/FileStore/s...|   100|  100|        3|  16|[FF FF FF FF FF F...|[255, 255, 255, 2...|[3.6515834E-5, 5....|[3.65158339263871...|[-0.1863476434376...|\n|dbfs:/FileStore/s...|   100|  100|        3|  16|[FF FF FE FF FF F...|[255, 255, 254, 2...|[3.8283386E-5, 8....|[3.82833859475795...|[-0.1301558632758...|\n|dbfs:/FileStore/s...|   100|  100|        3|  16|[FD FE FF FD FF F...|[253, 254, 255, 2...|[3.791086E-5, 6.6...|[3.79108605557121...|[-0.2890689602910...|\n|dbfs:/FileStore/s...|   100|  100|        3|  16|[FF FF FE FF FF F...|[255, 255, 254, 2...|[5.01877E-5, 1.16...|[5.01877002534456...|[-0.1056316452319...|\n|dbfs:/FileStore/s...|   100|  100|        3|  16|[FF FF FE FF FF F...|[255, 255, 254, 2...|[5.021872E-5, 9.4...|[5.02187212987337...|[-0.1519747746637...|\n|dbfs:/FileStore/s...|   100|  100|        3|  16|[FF FF FF FF FF F...|[255, 255, 255, 2...|[2.6343692E-5, 6....|[2.63436922978144...|[-0.1755102466477...|\n|dbfs:/FileStore/s...|   100|  100|        3|  16|[FF FF FE FF FF F...|[255, 255, 254, 2...|[3.8070048E-5, 1....|[3.80700475943740...|[-0.1570375198800...|\n|dbfs:/FileStore/s...|   100|  100|        3|  16|[FF FE FF FF FE F...|[255, 254, 255, 2...|[3.170783E-5, 7.6...|[3.17078302032314...|[-0.2993274910043...|\n|dbfs:/FileStore/s...|   100|  100|        3|  16|[FF FF FE FF FF F...|[255, 255, 254, 2...|[4.150098E-5, 1.0...|[4.15009817515965...|[-0.1008365092449...|\n|dbfs:/FileStore/s...|   100|  100|        3|  16|[FD FE FF FD FF F...|[253, 254, 255, 2...|[4.3894423E-5, 5....|[4.38944225606974...|[-0.3029915390697...|\n|dbfs:/FileStore/s...|   100|  100|        3|  16|[FF FF FF FF FF F...|[255, 255, 255, 2...|[2.98462E-5, 5.62...|[2.98462000500876...|[-0.2142049362387...|\n|dbfs:/FileStore/s...|   100|  100|        3|  16|[FF FF FE FF FF F...|[255, 255, 254, 2...|[3.4378903E-5, 5....|[3.43789033649954...|[-0.1185210081856...|\n|dbfs:/FileStore/s...|   100|  100|        3|  16|[FF FF FE FF FF F...|[255, 255, 254, 2...|[7.1358365E-5, 1....|[7.13583649485372...|[-0.1079886219492...|\n|dbfs:/FileStore/s...|   100|  100|        3|  16|[FD FE FF FD FF F...|[253, 254, 255, 2...|[4.7139907E-5, 8....|[4.71399071102496...|[-0.1599923562301...|\n|dbfs:/FileStore/s...|   100|  100|        3|  16|[FF FE FF FF FE F...|[255, 254, 255, 2...|[8.29874E-5, 7.93...|[8.29873970360495...|[-0.2556823929389...|\n|dbfs:/FileStore/s...|   100|  100|        3|  16|[FF FF FE FF FF F...|[255, 255, 254, 2...|[4.813331E-5, 9.0...|[4.81333117932081...|[-0.2341157175511...|\n+--------------------+------+-----+---------+----+--------------------+--------------------+--------------------+--------------------+--------------------+\nonly showing top 20 rows\n\n",
       "datasetInfos": [],
       "metadata": {},
       "removedWidgets": [],
       "type": "ansi"
      }
     },
     "output_type": "display_data"
    }
   ],
   "source": [
    "# Réduction de dimension :\n",
    "pca = PCA(k=10, inputCol=\"cnn_vectors\", outputCol=\"cnn_vectors_redux\")\n",
    "redux = pca.fit(df)\n",
    "df = redux.transform(df)\n",
    "df.show()"
   ]
  },
  {
   "cell_type": "markdown",
   "metadata": {},
   "source": [
    "#### 6) Finalisation du Dataframe :"
   ]
  },
  {
   "cell_type": "code",
   "execution_count": 0,
   "metadata": {
    "application/vnd.databricks.v1+cell": {
     "inputWidgets": {},
     "nuid": "e947214d-c21d-4de7-a93a-90b7968ec1b7",
     "showTitle": false,
     "title": ""
    }
   },
   "outputs": [
    {
     "data": {
      "text/plain": [
       "+--------------------+--------------------+--------------------+---------+\n",
       "|              origin|         cnn_vectors|   cnn_vectors_redux|   target|\n",
       "+--------------------+--------------------+--------------------+---------+\n",
       "|dbfs:/FileStore/s...|[3.48090579791460...|[-0.1024032552965...|Pineapple|\n",
       "|dbfs:/FileStore/s...|[4.86573553644120...|[-0.1533783567273...|Pineapple|\n",
       "|dbfs:/FileStore/s...|[5.08078919665422...|[-0.0969303836251...|Pineapple|\n",
       "|dbfs:/FileStore/s...|[8.08001932455226...|[-0.1843001580400...|Pineapple|\n",
       "|dbfs:/FileStore/s...|[3.65158339263871...|[-0.1863476434376...|Pineapple|\n",
       "|dbfs:/FileStore/s...|[3.82833859475795...|[-0.1301558632758...|Pineapple|\n",
       "|dbfs:/FileStore/s...|[3.79108605557121...|[-0.2890689602910...|Pineapple|\n",
       "|dbfs:/FileStore/s...|[5.01877002534456...|[-0.1056316452319...|Pineapple|\n",
       "|dbfs:/FileStore/s...|[5.02187212987337...|[-0.1519747746637...|Pineapple|\n",
       "|dbfs:/FileStore/s...|[2.63436922978144...|[-0.1755102466477...|Pineapple|\n",
       "|dbfs:/FileStore/s...|[3.80700475943740...|[-0.1570375198800...|Pineapple|\n",
       "|dbfs:/FileStore/s...|[3.17078302032314...|[-0.2993274910043...|Pineapple|\n",
       "|dbfs:/FileStore/s...|[4.15009817515965...|[-0.1008365092449...|Pineapple|\n",
       "|dbfs:/FileStore/s...|[4.38944225606974...|[-0.3029915390697...|Pineapple|\n",
       "|dbfs:/FileStore/s...|[2.98462000500876...|[-0.2142049362387...|Pineapple|\n",
       "|dbfs:/FileStore/s...|[3.43789033649954...|[-0.1185210081856...|Pineapple|\n",
       "|dbfs:/FileStore/s...|[7.13583649485372...|[-0.1079886219492...|Pineapple|\n",
       "|dbfs:/FileStore/s...|[4.71399071102496...|[-0.1599923562301...|Pineapple|\n",
       "|dbfs:/FileStore/s...|[8.29873970360495...|[-0.2556823929389...|Pineapple|\n",
       "|dbfs:/FileStore/s...|[4.81333117932081...|[-0.2341157175511...|Pineapple|\n",
       "+--------------------+--------------------+--------------------+---------+\n",
       "only showing top 20 rows\n",
       "\n"
      ]
     },
     "metadata": {
      "application/vnd.databricks.v1+output": {
       "addedWidgets": {},
       "arguments": {},
       "data": "+--------------------+--------------------+--------------------+---------+\n|              origin|         cnn_vectors|   cnn_vectors_redux|   target|\n+--------------------+--------------------+--------------------+---------+\n|dbfs:/FileStore/s...|[3.48090579791460...|[-0.1024032552965...|Pineapple|\n|dbfs:/FileStore/s...|[4.86573553644120...|[-0.1533783567273...|Pineapple|\n|dbfs:/FileStore/s...|[5.08078919665422...|[-0.0969303836251...|Pineapple|\n|dbfs:/FileStore/s...|[8.08001932455226...|[-0.1843001580400...|Pineapple|\n|dbfs:/FileStore/s...|[3.65158339263871...|[-0.1863476434376...|Pineapple|\n|dbfs:/FileStore/s...|[3.82833859475795...|[-0.1301558632758...|Pineapple|\n|dbfs:/FileStore/s...|[3.79108605557121...|[-0.2890689602910...|Pineapple|\n|dbfs:/FileStore/s...|[5.01877002534456...|[-0.1056316452319...|Pineapple|\n|dbfs:/FileStore/s...|[5.02187212987337...|[-0.1519747746637...|Pineapple|\n|dbfs:/FileStore/s...|[2.63436922978144...|[-0.1755102466477...|Pineapple|\n|dbfs:/FileStore/s...|[3.80700475943740...|[-0.1570375198800...|Pineapple|\n|dbfs:/FileStore/s...|[3.17078302032314...|[-0.2993274910043...|Pineapple|\n|dbfs:/FileStore/s...|[4.15009817515965...|[-0.1008365092449...|Pineapple|\n|dbfs:/FileStore/s...|[4.38944225606974...|[-0.3029915390697...|Pineapple|\n|dbfs:/FileStore/s...|[2.98462000500876...|[-0.2142049362387...|Pineapple|\n|dbfs:/FileStore/s...|[3.43789033649954...|[-0.1185210081856...|Pineapple|\n|dbfs:/FileStore/s...|[7.13583649485372...|[-0.1079886219492...|Pineapple|\n|dbfs:/FileStore/s...|[4.71399071102496...|[-0.1599923562301...|Pineapple|\n|dbfs:/FileStore/s...|[8.29873970360495...|[-0.2556823929389...|Pineapple|\n|dbfs:/FileStore/s...|[4.81333117932081...|[-0.2341157175511...|Pineapple|\n+--------------------+--------------------+--------------------+---------+\nonly showing top 20 rows\n\n",
       "datasetInfos": [],
       "metadata": {},
       "removedWidgets": [],
       "type": "ansi"
      }
     },
     "output_type": "display_data"
    }
   ],
   "source": [
    "# Réorganisation du Dataframe et ajout de la target :\n",
    "df = df.select(\"origin\", \"cnn_vectors\", \"cnn_vectors_redux\")\n",
    "df = df.withColumn(\"target\", split(col(\"origin\"), \"dataset/\").getItem(1))\n",
    "df = df.withColumn(\"target\", split(col(\"target\"), \"/\").getItem(0))\n",
    "df.show()"
   ]
  },
  {
   "cell_type": "markdown",
   "metadata": {},
   "source": [
    "### D - Conclusion :"
   ]
  },
  {
   "cell_type": "markdown",
   "metadata": {},
   "source": [
    "Il est possible d'adapter assez rapidement le code déployé sur le cloud afin de mettre en place un preprocessing pour des modèles performants. Seulement, cela ne peut être fait sans au moins trois étapes préalables :\n",
    "\n",
    "- Une concertation avec les commanditaires,\n",
    "- La sélection et le perfectionnement d'un modèle en local afin d'adapter l'étape de preprocessing,\n",
    "- Et bien évidemment, ce qui a manqué le plus à ce projet : un budget permettant de travailler sereinement sur le cloud."
   ]
  }
 ],
 "metadata": {
  "application/vnd.databricks.v1+notebook": {
   "dashboards": [],
   "language": "python",
   "notebookMetadata": {
    "pythonIndentUnit": 4
   },
   "notebookName": "Projet_8",
   "notebookOrigID": 112814359451544,
   "widgets": {}
  },
  "kernelspec": {
   "display_name": "Python 3 (ipykernel)",
   "language": "python",
   "name": "python3"
  },
  "language_info": {
   "codemirror_mode": {
    "name": "ipython",
    "version": 3
   },
   "file_extension": ".py",
   "mimetype": "text/x-python",
   "name": "python",
   "nbconvert_exporter": "python",
   "pygments_lexer": "ipython3",
   "version": "3.9.12"
  }
 },
 "nbformat": 4,
 "nbformat_minor": 1
}
